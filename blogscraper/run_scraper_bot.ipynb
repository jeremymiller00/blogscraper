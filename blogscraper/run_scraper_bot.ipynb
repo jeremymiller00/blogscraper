{
 "cells": [
  {
   "cell_type": "code",
   "execution_count": null,
   "metadata": {},
   "outputs": [],
   "source": [
    "# Run Scraper Bot"
   ]
  },
  {
   "cell_type": "code",
   "execution_count": 1,
   "metadata": {},
   "outputs": [],
   "source": [
    "# from blogscraper.basebot import BaseBot\n",
    "# from blogscraper.LanguageModel import LanguageModel\n",
    "from staysaasy_bot import StaySaasyBot\n",
    "from eugeneyan_bot import EugeneYanBot\n",
    "from lenny_bot import LennyBot\n",
    "from substack_bot import SubstackBot\n",
    "from app import UserInterface\n",
    "from language_model import LanguageModel\n",
    "import config\n",
    "import requests\n",
    "from bs4 import BeautifulSoup\n",
    "from markdownify import markdownify as md\n",
    "import re"
   ]
  },
  {
   "cell_type": "code",
   "execution_count": 2,
   "metadata": {},
   "outputs": [],
   "source": [
    "ui = UserInterface(logfile_path=\"../logs/logs.log\") # need modified path for invoking from within directory"
   ]
  },
  {
   "cell_type": "code",
   "execution_count": 3,
   "metadata": {},
   "outputs": [
    {
     "name": "stderr",
     "output_type": "stream",
     "text": [
      "2024-02-09 15:54:53,328 INFO Loaded database from file\n"
     ]
    }
   ],
   "source": [
    "ui.read_database()"
   ]
  },
  {
   "cell_type": "code",
   "execution_count": 4,
   "metadata": {},
   "outputs": [
    {
     "data": {
      "text/plain": [
       "{'SVPG': {'base_url': 'https://www.svpg.com/articles', 'bot': 'svpgbot'}}"
      ]
     },
     "execution_count": 4,
     "metadata": {},
     "output_type": "execute_result"
    }
   ],
   "source": [
    "config.BLOGS"
   ]
  },
  {
   "cell_type": "code",
   "execution_count": 5,
   "metadata": {},
   "outputs": [],
   "source": [
    "bot = LennyBot(blog_name='SVPG', database=ui.database, debug=True)"
   ]
  },
  {
   "cell_type": "code",
   "execution_count": 6,
   "metadata": {},
   "outputs": [],
   "source": [
    "# bot.get_blog_pages()"
   ]
  },
  {
   "cell_type": "code",
   "execution_count": 7,
   "metadata": {},
   "outputs": [],
   "source": [
    "pages = requests.get(config.BLOGS.get('SVPG').get(\"base_url\"),timeout=100)"
   ]
  },
  {
   "cell_type": "code",
   "execution_count": 8,
   "metadata": {},
   "outputs": [],
   "source": [
    "soup = BeautifulSoup(pages.content, 'html.parser')\n",
    "# print(soup)"
   ]
  },
  {
   "cell_type": "code",
   "execution_count": 9,
   "metadata": {},
   "outputs": [],
   "source": [
    "link_list = [link.get('href') for link in soup.find_all('a')]\n",
    "link_list_filtered = [link for link in link_list if isinstance(link, str) and link[21:29] == 'insights']"
   ]
  },
  {
   "cell_type": "code",
   "execution_count": 10,
   "metadata": {},
   "outputs": [
    {
     "data": {
      "text/plain": [
       "['https://www.svpg.com/insights/product-articles/',\n",
       " 'https://www.svpg.com/insights/product-management-articles/',\n",
       " 'https://www.svpg.com/insights/product-leadership-articles/',\n",
       " 'https://www.svpg.com/insights/product-teams-articles/',\n",
       " 'https://www.svpg.com/insights/product-discovery-articles/',\n",
       " 'https://www.svpg.com/insights/product-culture-articles/',\n",
       " 'https://www.svpg.com/insights/product-strategy-articles/',\n",
       " 'https://www.svpg.com/insights/product-transformation-articles/',\n",
       " 'https://www.svpg.com/insights/product-operating-model-articles/',\n",
       " 'https://www.svpg.com/insights/product-development-articles/',\n",
       " 'https://www.svpg.com/insights/product-marketing-articles/',\n",
       " 'https://www.svpg.com/insights/product-coaching-articles/',\n",
       " 'https://www.svpg.com/insights/product-design-articles/']"
      ]
     },
     "execution_count": 10,
     "metadata": {},
     "output_type": "execute_result"
    }
   ],
   "source": [
    "link_list_filtered"
   ]
  },
  {
   "cell_type": "code",
   "execution_count": 11,
   "metadata": {},
   "outputs": [],
   "source": [
    "all_links = []\n",
    "for link in link_list_filtered:\n",
    "    pages = requests.get(link,timeout=100)\n",
    "    soup = BeautifulSoup(pages.content, 'html.parser')\n",
    "    link_list = [link.get('href') for link in soup.find_all('a')]\n",
    "    link_list_filtered = [link for link in link_list if isinstance(link, str) and link[12:16] == \"svpg\"]\n",
    "    all_links.extend(link_list_filtered)\n",
    "\n",
    "all_links = list(set(all_links))"
   ]
  },
  {
   "cell_type": "code",
   "execution_count": 12,
   "metadata": {},
   "outputs": [
    {
     "data": {
      "text/plain": [
       "['https://www.svpg.com/beyond-lean-and-agile/',\n",
       " 'https://www.svpg.com/insights/product-transformation-articles/',\n",
       " 'https://www.svpg.com/inspire-africa-conference/',\n",
       " 'https://www.svpg.com/pledge-to-customers/',\n",
       " 'https://www.svpg.com/insights/product-management-articles/page/3/',\n",
       " 'https://www.svpg.com/time-to-build/',\n",
       " 'https://www.svpg.com/watch-cable-tv-and-read-people-magazine/',\n",
       " 'https://www.svpg.com/the-cspo-pathology/',\n",
       " 'https://www.svpg.com/a-better-way/',\n",
       " 'https://www.svpg.com/team-objectives-accountability/',\n",
       " 'https://www.svpg.com/insights/product-transformation-articles/page/2/',\n",
       " 'https://www.svpg.com/great-products-by-design/',\n",
       " 'https://www.svpg.com/team-objectives-collaboration/',\n",
       " 'https://www.svpg.com/revenge-of-the-pmo/',\n",
       " 'https://www.svpg.com/insights/product-culture-articles/page/2/',\n",
       " 'https://www.svpg.com/coaching-the-coaches/',\n",
       " 'https://www.svpg.com/planning-product-discovery/',\n",
       " 'https://www.svpg.com/product-ops-overview/',\n",
       " 'https://www.svpg.com/tools-and-processes/',\n",
       " 'https://www.svpg.com/discovery-problem-vs-solution/',\n",
       " 'https://www.svpg.com/insights/product-operating-model-articles/',\n",
       " 'https://www.svpg.com/failing-fast-vs-learning-fast/',\n",
       " 'https://www.svpg.com/design-in-enterprise-software-companies/',\n",
       " 'https://www.svpg.com/team-objectives-summary/',\n",
       " 'https://www.svpg.com/personas-for-product-management/',\n",
       " 'https://www.svpg.com/changing-how-you-solve-problems/',\n",
       " 'https://www.svpg.com/an-svpg-process/',\n",
       " 'https://www.svpg.com/discovery-delivery/',\n",
       " 'https://www.svpg.com/product-strategy-overview/',\n",
       " 'https://www.svpg.com/product-manager-job-description/',\n",
       " 'https://www.svpg.com/great-products-are-not-just-the-product-guys-job/',\n",
       " 'https://www.svpg.com/what-is-a-product/',\n",
       " 'https://www.svpg.com/so-you-want-to-write-a-book/',\n",
       " 'https://www.svpg.com/product-strategy-actions/',\n",
       " 'https://www.svpg.com/videos/',\n",
       " 'https://www.svpg.com/product-vs-feature-teams/',\n",
       " 'https://www.svpg.com/transformation-defined/',\n",
       " 'https://www.svpg.com/transformation-fail/',\n",
       " 'https://www.svpg.com/books/',\n",
       " 'https://www.svpg.com/getting-past-gatekeepers/',\n",
       " 'https://www.svpg.com/product-fail/',\n",
       " 'https://www.svpg.com/process-people/',\n",
       " 'https://www.svpg.com/insights/product-development-articles/page/4/',\n",
       " 'https://www.svpg.com/the-product-operating-model/',\n",
       " 'https://www.svpg.com/sling-tvs-need-for-speed-strong/',\n",
       " 'https://www.svpg.com/behind-every-great-company/',\n",
       " 'https://www.svpg.com/design-vs-implementation/',\n",
       " 'https://www.svpg.com/discovery-feedback/',\n",
       " 'https://www.svpg.com/antidote-to-bad-blood/',\n",
       " 'https://www.svpg.com/insights/product-coaching-articles/',\n",
       " 'https://www.svpg.com/insights/product-teams-articles/page/3/',\n",
       " 'https://www.svpg.com/changing-how-you-build/',\n",
       " 'https://www.svpg.com/product-organizational-structure/',\n",
       " 'https://www.svpg.com/best-vs-rest-explained/',\n",
       " 'https://www.svpg.com/principles-over-process/',\n",
       " 'https://www.svpg.com/empowered-engineers-faq/',\n",
       " 'https://www.svpg.com/types-of-product-coaching/',\n",
       " 'https://www.svpg.com/product-marketing-contribution/',\n",
       " 'https://www.svpg.com/working-from-home/',\n",
       " 'https://www.svpg.com/insights/product-culture-articles/page/6/',\n",
       " 'https://www.svpg.com/why-women-make-the-best-product-managers/',\n",
       " 'https://www.svpg.com/inspiring-product-leaders/',\n",
       " 'https://www.svpg.com/product-strategy-focus/',\n",
       " 'https://www.svpg.com/the-mba-pathology/',\n",
       " 'https://www.svpg.com/40-years-in-tech/',\n",
       " 'https://www.svpg.com/insights/product-discovery-articles/page/2/',\n",
       " 'https://www.svpg.com/the-power-of-customer-misbehavior/',\n",
       " 'https://www.svpg.com/lead-with-context-not-control/',\n",
       " 'https://www.svpg.com/insights/product-development-articles/page/3/',\n",
       " 'https://www.svpg.com/who-is-product-operating-model-for/',\n",
       " 'https://www.svpg.com/coach-the-coaches-nyc/',\n",
       " 'https://www.svpg.com/ensuring-excellence/',\n",
       " 'https://www.svpg.com/podcasts/',\n",
       " 'https://www.svpg.com/insights/product-design-articles/',\n",
       " 'https://www.svpg.com/discovery-excuses/',\n",
       " 'https://www.svpg.com/two-in-a-box-pm/',\n",
       " 'https://www.svpg.com/speaking-engagements/',\n",
       " 'https://www.svpg.com/insights/product-development-articles/',\n",
       " 'https://www.svpg.com/team-objectives-management/',\n",
       " 'https://www.svpg.com/transformation-series/',\n",
       " 'https://www.svpg.com/transformation-engagements/',\n",
       " 'https://www.svpg.com/executive-engagement/',\n",
       " 'https://www.svpg.com/insights/product-management-articles/',\n",
       " 'https://www.svpg.com/insights/product-management-articles/page/2/',\n",
       " 'https://www.svpg.com/waterfall-deconstructed/',\n",
       " 'https://www.svpg.com/product-managers-vs-product-leaders/',\n",
       " 'https://www.svpg.com/transformed-workshop',\n",
       " 'https://www.svpg.com/from-projects-to-products/',\n",
       " 'https://www.svpg.com/alternatives-to-product-leaders/',\n",
       " 'https://www.svpg.com/insights/product-marketing-articles/',\n",
       " 'https://www.svpg.com/examples/',\n",
       " 'https://www.svpg.com/alternatives-to-product-managers/',\n",
       " 'https://www.svpg.com/product-risk-taxonomies/',\n",
       " 'https://www.svpg.com/product-vs-policy/',\n",
       " 'https://www.svpg.com/coaching-vs-mentoring/',\n",
       " 'https://www.svpg.com/insights/product-culture-articles/',\n",
       " 'https://www.svpg.com/product-model-masterclass/',\n",
       " 'https://www.svpg.com/product-strategy-management/',\n",
       " 'https://www.svpg.com/trend-global-proportions/',\n",
       " 'https://www.svpg.com/product-model-at-spotify/',\n",
       " 'https://www.svpg.com/product-strategy-insights/',\n",
       " 'https://www.svpg.com/product-market-fit-vs-product-vision/',\n",
       " 'https://www.svpg.com/articles/',\n",
       " 'https://www.svpg.com/discovery-learning-vs-insights/',\n",
       " 'https://www.svpg.com/spotify-vs-fitbit/',\n",
       " 'https://www.svpg.com',\n",
       " 'https://www.svpg.com/insights/product-articles/',\n",
       " 'https://www.svpg.com/insights/product-teams-articles/page/2/',\n",
       " 'https://www.svpg.com/the-alternative-to-agile-coaches/',\n",
       " 'https://www.svpg.com/inspired-and-empowered/',\n",
       " 'https://www.svpg.com/transformed-faq/',\n",
       " 'https://www.svpg.com/assessing-customer-impact/',\n",
       " 'https://www.svpg.com/the-alternative-to-roadmaps/',\n",
       " 'https://www.svpg.com/changing-how-you-decide-which-problems-to-solve/',\n",
       " 'https://www.svpg.com/process-vs-model/',\n",
       " 'https://www.svpg.com/the-power-of-visiontypes/',\n",
       " 'https://www.svpg.com/product-management-theater/',\n",
       " 'https://www.svpg.com/product-model-competencies/',\n",
       " 'https://www.svpg.com/coaching-ethics/',\n",
       " 'https://www.svpg.com/pledge-to-executives/',\n",
       " 'https://www.svpg.com/why-traditional-messaging-fails/',\n",
       " 'https://www.svpg.com/insights/product-discovery-articles/',\n",
       " 'https://www.svpg.com/insights/product-management-articles/page/10/',\n",
       " 'https://www.svpg.com/disruptive-technologies/',\n",
       " 'https://www.svpg.com/insights/product-teams-articles/',\n",
       " 'https://www.svpg.com/coaching-collaboration/',\n",
       " 'https://www.svpg.com/how-not-to-coach/',\n",
       " 'https://www.svpg.com/deep-thinking/',\n",
       " 'https://www.svpg.com/discovery-when-working-remotely/',\n",
       " 'https://www.svpg.com/vision-vs-strategy/',\n",
       " 'https://www.svpg.com/team-objectives-commitments/',\n",
       " 'https://www.svpg.com/the-foundation-of-product/',\n",
       " 'https://www.svpg.com/discovery-vs-documentation/',\n",
       " 'https://www.svpg.com/usability-vs-aesthetics/',\n",
       " 'https://www.svpg.com/product-predictions-2024/',\n",
       " 'https://www.svpg.com/insights/product-culture-articles/page/3/',\n",
       " 'https://www.svpg.com/product-model-concepts/',\n",
       " 'https://www.svpg.com/privacy-policy/',\n",
       " 'https://www.svpg.com/products-and-people/',\n",
       " 'https://www.svpg.com/discovery-vs-delivery/',\n",
       " 'https://www.svpg.com/titles-roles-and-responsibilities/',\n",
       " 'https://www.svpg.com/introducing-loved/',\n",
       " 'https://www.svpg.com/the-nature-of-product/',\n",
       " 'https://www.svpg.com/transformed/',\n",
       " 'https://www.svpg.com/product-sense-demystified/',\n",
       " 'https://www.svpg.com/product-management-vs-product-design/',\n",
       " 'https://www.svpg.com/the-coaching-series/',\n",
       " 'https://www.svpg.com/insights/product-development-articles/page/2/',\n",
       " 'https://www.svpg.com/discovery-judgement/',\n",
       " 'https://www.svpg.com/team-objectives-empowerment/',\n",
       " 'https://www.svpg.com/preparing-for-the-future/',\n",
       " 'https://www.svpg.com/product-coaching/',\n",
       " 'https://www.svpg.com/insights/product-leadership-articles/',\n",
       " 'https://www.svpg.com/training-engagements/',\n",
       " 'https://www.svpg.com/team-objectives-action/',\n",
       " 'https://www.svpg.com/insights/product-articles/page/3/',\n",
       " 'https://www.svpg.com/insights/product-articles/page/2/',\n",
       " 'https://www.svpg.com/the-product-designer-role/',\n",
       " 'https://www.svpg.com/the-hp-ai-workstation/',\n",
       " 'https://www.svpg.com/product-team-faq/',\n",
       " 'https://www.svpg.com/roadmap-alternative-faq/',\n",
       " 'https://www.svpg.com/breaking-down-walls/',\n",
       " 'https://www.svpg.com/loved-product-marketing-workshop',\n",
       " 'https://www.svpg.com/product-management-start-here/',\n",
       " 'https://www.svpg.com/insights/product-articles/page/16/',\n",
       " 'https://www.svpg.com/minimum-viable-product/',\n",
       " 'https://www.svpg.com/value-and-viability/',\n",
       " 'https://www.svpg.com/discovery-vs-design/',\n",
       " 'https://www.svpg.com/scaling-with-process-vs-people/',\n",
       " 'https://www.svpg.com/developer-powered-innovation/',\n",
       " 'https://www.svpg.com/market-fit/',\n",
       " 'https://www.svpg.com/product-leadership-is-hard/',\n",
       " 'https://www.svpg.com/team-objectives-overview/',\n",
       " 'https://www.svpg.com/team-objectives-ambition/',\n",
       " 'https://www.svpg.com/transformed-workshops/',\n",
       " 'https://www.svpg.com/the-supermarket-of-software/',\n",
       " 'https://www.svpg.com/management-consultancies/',\n",
       " 'https://www.svpg.com/process-people-continued/',\n",
       " 'https://www.svpg.com/insights/product-marketing-articles/page/2/',\n",
       " 'https://www.svpg.com/insights/product-operating-model-articles/page/2/',\n",
       " 'https://www.svpg.com/scaling-agile-faq/',\n",
       " 'https://www.svpg.com/insights/product-strategy-articles/',\n",
       " 'https://www.svpg.com/prototype-of-the-day/',\n",
       " 'https://www.svpg.com/becoming-a-product-coach/',\n",
       " 'https://www.svpg.com/pledge-to-stakeholders/']"
      ]
     },
     "execution_count": 12,
     "metadata": {},
     "output_type": "execute_result"
    }
   ],
   "source": [
    "all_links"
   ]
  },
  {
   "cell_type": "code",
   "execution_count": 13,
   "metadata": {},
   "outputs": [],
   "source": [
    "base = config.BLOGS.get('SVPG').get('base_url')"
   ]
  },
  {
   "cell_type": "code",
   "execution_count": null,
   "metadata": {},
   "outputs": [],
   "source": [
    "# link_list_appended = [base[:-5] + link for link in link_list_filtered]"
   ]
  },
  {
   "cell_type": "code",
   "execution_count": null,
   "metadata": {},
   "outputs": [],
   "source": [
    "# link_list_appended[0]"
   ]
  },
  {
   "cell_type": "code",
   "execution_count": 24,
   "metadata": {},
   "outputs": [],
   "source": [
    "# page = requests.get(link_list_appended[0], timeout=100)\n",
    "page = requests.get(all_links[5], timeout=100)"
   ]
  },
  {
   "cell_type": "code",
   "execution_count": 25,
   "metadata": {},
   "outputs": [],
   "source": [
    "soup = BeautifulSoup(page.content, 'html.parser')"
   ]
  },
  {
   "cell_type": "code",
   "execution_count": 26,
   "metadata": {},
   "outputs": [
    {
     "name": "stdout",
     "output_type": "stream",
     "text": [
      "Time To Build - Silicon Valley Product Group : Silicon Valley Product Group EARLY BIRD Price Available for the April SVPG Product Masterclass - Click here to reserve your spotWorkshopsProduct Masterclass\n",
      "Transformed\n",
      "LovedServicesTransformation Engagements\n",
      "Training Engagements\n",
      "Speaking Engagements\n",
      "Product CoachingContentArticles\n",
      "Books\n",
      "Podcasts\n",
      "Videos\n",
      "ExamplesTeam\t\t\t\t\t\t        newsletter sign up\n",
      "\t\t\t\t\t\t     SearchSearchWorkshopsProduct Masterclass\n",
      "Transformed\n",
      "LovedServicesTransformation Engagements\n",
      "Training Engagements\n",
      "Speaking Engagements\n",
      "Product CoachingContentArticles\n",
      "Books\n",
      "Podcasts\n",
      "Videos\n",
      "ExamplesTeam              newsletter sign up\n",
      "           back to all articlesProduct\n",
      "July 18, 2022\n",
      "Marty Caganshare:Share on TwitterShare on LinkedInShare via EmailCopy the LinkTime To Build\n",
      "By now everyone that reads these articles is aware that our industry has entered yet another one of its down cycles.  \n",
      "Most of the companies I know of and work with have had at least some level of staff reduction, and have worked to bring down their spend.  \n",
      "Some have a sizable war chest because they raised funds when it was easy, and were conservative about their spending.  Many weren’t so careful about their spending, and some are in real trouble.\n",
      "The good news is that there are still lots of good jobs out there for those that find themselves suddenly without one.  But many people are naturally stressed from the change, especially those that had to leave a company and a manager they felt fortunate to work for.\n",
      "But apart from the lives that have been disrupted, I can’t help but observe after so many years in the industry, and witnessing so many of these cycles, that very often the best products come from companies during these down periods.\n",
      "Others have observed this too.  Much harder of course is understanding the reason.\n",
      "More than a few CEO’s over the years have told me that “the easiest problems are the ones they can solve with a check.”  I don’t know if that’s something taught in business school or something, but that statement has always rubbed me the wrong way.  \n",
      "My personal theory is that this belief contributes to many failed product companies.  \n",
      "It’s not that they necessarily have too much money, but the lack of financial constraints means that they sometimes believe they can overcome the difficult problems (especially that pesky problem of getting to product/market fit) by spending heavily on sales, marketing, customer success, and the one that bothers me most of all, acquisitions (more about why acquisitions so often go so very wrong in an upcoming article).\n",
      "Of course there are some businesses which are focused on unit economics from very early on, and in this case extra spending doesn’t do too much to obscure the underlying reality of the situation.\n",
      "But as most of you hopefully know, there are a great many business strategies in our industry that legitimately defer their focus on profitability.  Many of the best products in the world wouldn’t exist without leaders that understood the benefits of this strategy.\n",
      "But I’m suggesting that too often that excuse is used to mask the underlying reality that the product is not where it needs to be.\n",
      "In any case, when the money dries up, the product deficiencies become plain to see.  And that’s precisely where many companies find themselves today.\n",
      "When the product is inadequate, it makes marketing difficult and costly, it makes sales not only slow and expensive, but the sales organization is too often forced to do unnatural acts that rarely end well, and the poor people in so-called customer success are more accurately punching bags for unhappy customers.\n",
      "Which is why, with a nod to Marc Andresseen’s 2020 essay It’s Time To Build, I am encouraging all of these companies that do not yet have the products they need to sustain their business, to focus their energies on building.\n",
      "This means focusing on the core competencies of figuring out what precisely you need to build (product discovery), and getting that product to market (product delivery).\n",
      "Since many of these companies have not a single dollar or day to waste, I want to remind them that what’s hard about product is not so much figuring out what problem to solve, but rather, coming up with a solution that is demonstrably better than the alternatives, that users and customers will switch to your offering.\n",
      "Once you have established product/market fit, then by all means invest in marketing, sales, and customer success.  But I promise you that you’ll find those investments producing a much greater return for you.  And most importantly, you will finally have happy customers.Marty Cagan\n",
      "Founder, Partner - Product at SVPG\n",
      "Learn more by attending our next workshop.share:Share on TwitterShare on LinkedInShare via EmailCopy the Linkfeatured contentProduct\n",
      "November 28, 2023\n",
      "Marty CaganTransformed FAQThis page is here to hold questions and answers that come up once the TRANSFORMED book is published and we...\n",
      "article\n",
      "read moreProduct\n",
      "November 28, 2023\n",
      "Marty CaganAlternatives To Product ManagersI doubt anyone is surprised to learn that many people have been asking me about Brian Chesky’s recent comments. I’ve...\n",
      "article\n",
      "read moreProduct\n",
      "September 12, 2023\n",
      "Marty CaganWho Is Product Operating Model For?One very common question we hear is: “We’re not a tech company, so is the product operating model even relevant...\n",
      "article\n",
      "read morediscover more articlessubscribe to newsletter contact\n",
      "Email: info@svpg.com\n",
      "Privacy Policy© 2024 SVPG. All Rights Reserved. \n"
     ]
    }
   ],
   "source": [
    "print(re.sub(r'(?:\\r?\\n|\\r){2,}', \"\", soup.get_text()))"
   ]
  },
  {
   "cell_type": "code",
   "execution_count": 23,
   "metadata": {},
   "outputs": [
    {
     "data": {
      "text/plain": [
       "'The CSPO Pathology - Silicon Valley Product Group   Silicon Valley Product Group'"
      ]
     },
     "execution_count": 23,
     "metadata": {},
     "output_type": "execute_result"
    }
   ],
   "source": [
    "soup.title.string.replace(\":\", \" \").replace(\"/\", \" \")"
   ]
  },
  {
   "cell_type": "code",
   "execution_count": 19,
   "metadata": {},
   "outputs": [],
   "source": [
    "lm = LanguageModel()"
   ]
  },
  {
   "cell_type": "code",
   "execution_count": 20,
   "metadata": {},
   "outputs": [
    {
     "name": "stderr",
     "output_type": "stream",
     "text": [
      "2024-02-08 05:59:49,562 INFO Text broken into 2 chunks\n",
      "2024-02-08 06:00:43,735 INFO HTTP Request: POST https://api.openai.com/v1/chat/completions \"HTTP/1.1 200 OK\"\n",
      "2024-02-08 06:00:45,997 INFO HTTP Request: POST https://api.openai.com/v1/chat/completions \"HTTP/1.1 200 OK\"\n"
     ]
    }
   ],
   "source": [
    "cleaned_text, usages = lm.clean_blog(soup.get_text())"
   ]
  },
  {
   "cell_type": "code",
   "execution_count": 21,
   "metadata": {},
   "outputs": [
    {
     "name": "stdout",
     "output_type": "stream",
     "text": [
      "Summary:\n",
      "In this article, Coach Erika shares a step-by-step guide for passing a first-round interview in tech, even in a difficult talent market. She provides practical frameworks, practice questions, and a daily schedule to help job seekers make the most of their available prep time.\n",
      "\n",
      "Article:\n",
      "How to pass any first-round interview (even in a terrible talent market)\n",
      "\n",
      "Lenny's NewsletterSubscribeSign inShare this postHow to pass any first-round interview (even in a terrible talent market)www.lennysnewsletter.comCopy linkFacebookEmailNoteOtherHow to pass any first-round interview (even in a terrible talent market)Learn how to get that strong yes without burning yourself out with interview prepCoach ErikaJul 4, 2023316Share this postHow to pass any first-round interview (even in a terrible talent market)www.lennysnewsletter.comCopy linkFacebookEmailNoteOther23Share👋 Hey, Lenny here! Welcome to this month’s ✨ free edition ✨ of Lenny’s Newsletter. Each week I tackle reader questions about building product, driving growth, and accelerating your career.If you’re not a subscriber, here’s what you missed this month:The unconventional Palantir principles that catalyzed a generation of startupsWhat 5 years at Reddit taught us about building for a highly opinionated user baseHow a traumatic brain injury made me a better PM—and personHow to create an exceptional coverage plan for your parental leaveSubscribe to get access to these posts, and every post.SubscribeThis week’s post comes from the amazing Coach Erika. Since 2020, Erika has coached 200+ job seekers on how to land their dream jobs. In today’s post, she shares a step-by-step guide for passing your first-round interview—with practical frameworks, tons of practice questions (with answers), and even a daily schedule to help you make the most of your available prep time. If you’re currently interviewing, or plan to, this will change your life.For more, follow Coach Erika on LinkedIn, Twitter, and definitely check out her newsletter, The Career Whispers.Today I’m going to teach you how to pass any first-round interview in tech, even in a difficult talent market.I’ve coached over 200 people in tech job searches (from APMs to eng managers to chief product officers, and everything in between). 93% percent of them landed jobs at Google, Meta, Uber, Airbnb, Stripe, or a similar top-tier tech company—without burning themselves to the ground endlessly preparing, or winging it and hoping for the best.I’m not a recruiter or HR leader. I’m an engineer and product manager, like many of you. In 2013, I landed my first job in Big Tech (at Google), and my career took off. Over the next 10 years, I moved into management and leadership roles, where I learned about how the sausage is made when it comes to interviews, offers, and talent assessments. Now, I’m a chief product officer, and I moonlight as a career coach to help people unlock outsized career opportunities.My goal in sharing this Minimum Viable Interview Prep (MVIP) process is to arm you with the employer and interviewer perspective so that you can build confidence in your job search. I’m passionate about helping people with job searching because I know how much the right role can set you up for success in your career and financial life.Why employers do first-round interviewsFirst rounds are designed to filter out candidates who are unlikely to be a contender for an offer.Interviews are very expensive for employers (time, coordination, resources, opportunity cost). The singular goal of a first-round interview (from the employer’s perspective) is to determine if they want to invest in additional interviews with that candidate.How first-round interviews fit in the broader interview processBy the time you get to a first-round interview, you likely have already:Applied or been referred by an employeeSpoken to a recruiter or HR representative (phone screen)If you pass a first-round interview, the next step is often second rounds (another single interview), or even final-round interviews (three to six interviews back-to-back in one day or split over two days).The logisticsMost first-round interviews in tech are:30 minutes to 1 houron the phone or via video chatwith just one interviewer (not panel-style)conducted by a hiring manager, peer, or another person familiar with the roleThe standard time breakdown is typically:10% intro70% questions from the interviewer20% questions from the candidateFor a 45-minute interview, this looks like:3-5 minutes intros35 minutes questions from the interviewer5-7 minutes questions from the candidateMost first-round interviews stick to behavioral questions, i.e. questions that ask you about your own experiences, like “Tell me about a time when you had a conflict with a colleague.”Generally, the first-round interview scope isn’t comprehensive. Employers aren’t going to be able to fully assess your fit for the role/team/company in less than 60 minutes! Note: It’s a bit of a hot take, but I advise people to run if a company gives you an offer at this stage. (Just imagine how undiscerning they will have been with your future peers as well!) On-the-spot offers in tech are rare, but all of us who build products know that systems fail at the edge cases—few of you will get an offer in your first or second interview (and this is a good thing), but my advice is to walk away (or at least ask a lot of questions) if you get an offer on the spot.Common first-round interview question themes:Your resume and online content (including expertise posts and thought leadership)1-2 core competencies for the role (usually the P0s, not the P2s and P3s)Culture fit (these can be direct questions, e.g. “Describe your ideal team culture,” or indirect assessments based on your behavior, mannerisms, or speech: what you say and how you say it)Special casesAre you a software engineer or data scientist? Your first-round interview will likely be a technical screen (coding or system design or experimental design). Note that the way you problem-solve and communicate are assessed, not just whether you arrive at a working solution!Are you a PM? Your first-round interview will likely focus more on product design, product sense/execution, and data analysis or estimation questions (PM core competencies).How to prepareIt’s time to talk about tactics for interview preparation. Now is a good time to introduce Minimum Viable Interview Prep (MVIP). Below is a quick summary of the approach, with links to dive deeper before your next interview.The How, part 1: Get your (career) story straightKnow your digital footprintAnything and everything on the open web is fair game for an employer or interviewer to read and bring up in your interviews. This includes LinkedIn posts, Medium or Substack articles, GitHub, tweets, old blog posts, quotes in newspaper articles, etc. A useful to-do list:Know what’s out there (about you or authored by you)Assess whether it fits how you’d like to present yourselfModify as needed to represent yourself as you’d preferFor example: If I were looking for a data science role, I’d want to spend a few hours organizing the Python code in my public machine learning GitHub repo. It was written under timeline duress (!) and needs some refactoring so I can put my best foot forward if someone skims the code.Know your (strategic and compelling) reasons for wanting this roleWhen you go for an interview, you should assume the company is assessing at least two to four other people for the role. Like any competition, you want to get out front quickly and take the lead. One way to do this is to be clear and concise about why you want this job.Generally, avoid reasons that revolve around work hygiene or professional conveniences, e.g. compensation, short commute, remote work. This advice may seem obvious, but yes, people bring these up often. Don’t be one of them.Avoid reasons that sound like complaints about your current or past employer, e.g. “better company,” “smarter colleagues,” “kinder boss,” “escaping a toxic culture.”Stick to reasons that: convey what you bring to the role (the compelling ones for the employer)explain how this role will accelerate your career (the strategic reasons)You don’t need 10 reasons. One single, decisive reason will do: “I’ve spent eight years building large-scale, distributed systems for products used by about 100 million users. An exciting and progressive step for me would be to build similar technologies for the billion-user scale.”Know the role (map it)One of the oldest sales tricks in the book is a tactic called “mirroring.” It’s a psychological concept that involves physically and verbally doing what the other person is doing. People are comfortable with their own mannerisms. When you mirror them, you make them comfortable and subconsciously make them feel you are like them.You can use mirroring in your interview process. How? Use their language when describing your experiences.How to do this (interview pre-work)Paste the job description into a doc, then highlight keywords and concepts.Put the keywords into a table (one row per keyword or concept). Then add a column to the right. Here’s a template to get you started.In the right column, write down parts of your experience that map to that concept.Read this before your interview.In the interview, when you talk about your experience (right column), use their language (left column) to explain what you did.Example:The job description with key concepts highlightedJob description keywords mapped to your experienceIn the interview, use their language when you describe your experiences: “When I was on-call for a multi-datacenter system, I diagnosed and resolved a major technical issue and ensured services were restored. Later, I wrote automation to programmatically detect this type of issue in the future.”The more familiar the interviewer is with the job description and the role requirements, the more effective this technique will be (at subconsciously reinforcing your fit for the role).The How, part 2: Walk down memory laneThe vast majority of interview questions will ask you to dive into your past experiences and describe how you handled a specific situation. When you’ve been working for five or more years, it can be really tough to index your memory and pull out the perfect example on a dime.(By the way: It’s not you. It’s everyone. We all struggle with this. It’s a neurobiological limitation with the way our brains store memories.)Writing down the answers to hundreds of behavioral questions is a common way I see candidates try to remember all the things they’ve accomplished. This is exhausting and can actually overload your brain and cause you to freeze up or even “blackout” in an interview.To avoid burnout and get better results, I instead coach candidates to pick three to five recent major projects in their careers, and then remember every single detail they can recall about those projects, for example:Example prompts to walk down memory lane and reposition memories for better interview storytelling. See the references section at the end for a detailed walkthrough and example.Writing all of this down will help you reference the details before future interviews (especially if you have an extended job search, as is common in difficult talent markets like the one we’re experiencing this year).When you are asked about past work experiences, your brain will more easily pull from one of these projects. And you’ll be able to provide high-resolution details on the context, what happened, and the results (quantified!).What counts as major?Large and complex, ideally.Large in scope (important to the business, strategic, involves lots of stakeholders, significant revenue or user impact)Complex (in terms of the stakeholders, core team, tech, timeline, resources, etc.)Why large and complex? Demonstrating your maximum capacity will enable you to validate your ability to handle larger scope and responsibilities, which typically correspond to higher titles and compensation (if that matters to you).What counts as recent?Ideally the past two to four years. The two-to-four-year guideline is largely pragmatic. Memories aren’t stable, and they do experience neural “bit rot”—which means even if you resurrect those memories, it’ll be hard to recall the details.A second reason to aim for recent projects: Assuming your career has been growing, recent projects will likely also be larger and more significant (see: Why large and complex?).The How, part 3: Learn the behavioral frameworks, and never again sweat an interview questionMost people know that interviews are chock-full of behavioral questions, and most candidates either know (or quickly research) the STAR method during their interview prep.A refresher on the STAR method if you’re unfamiliar or haven’t interviewed recently:S: Situation—what was happening at the time (context)T: Tasks—what you were responsible forA: Action—what you did to solve the problem and deliver outcomesR: Result—the impact of your actionsA recent tweet where I walked through the STAR method in detail and my unique improvements that demonstrate your growth mindset.Simple, right? Yet there’s more to it…Behavioral interview questions were invented 50 years ago, in the 1970s. Studies quickly found that these questions were 55% more effective at predicting on-the-job performance than the prevailing interview questions at the time. They took the business world by storm and became the de facto interview technique. Today, they are used extensively in tech interviews (by my estimate, more than 60% of interview questions are behavioral). Amazon actually sends candidates a STAR primer before their interviews!But it’s been half a century, and behavioral question formats have evolved. Your approach to answering them needs to evolve too.In tech, I see 3 main formats for behavioral questions:Pure — “Tell me about a time when…” Situational — “Put yourself in this situation; what would you do?”Theoretical — “What’s your general approach to doing X?”All of them ask what you have done or what you would do (in a situation) or what you generally do, to extrapolate and predict on-the-job performance. To interview effectively in tech today, you need to know how to answer each of these questions. Below is a primer you can use to answer each type of behavioral interview question.Pure (70% of behavioral questions)Why they ask: Understanding how you’ve behaved in the past can be used to extrapolate how you might perform in this roleWhat they ask: Share a specific career experience from the pastHow to respond: Start with STAR, then add two improvements. First, what you learned. Then, how you evolved your approach and incorporated these learnings in a future situation. (I call this STAR++)ExampleTell me about a time you had to work quickly to deliver a result.S: Start with context (strategic, business, project)Answer: Situation“I was at a pre-IPO company in an eng leadership role. To prep for the IPO, we needed to update compensation bands and ensure all 250 engineers were being paid fairly.This was complex, because comp is a charged issue and I only had six weeks to deliver.”T: Explain your role in the situationAnswer: Tasks“The project was driven by HR. They were doing the analysis and proposing the new comp bands.My job was to test the new comp bands against the current comp for every engineer in the company and ensure that the new comp bands were both equitable and attractive for current and future talent.”A: Share the actions you took to ensure successAnswer: Actions“As HR pushed ne---Summary:\n",
      "The text discusses strategies for passing a first-round interview, particularly in the tech sector. It covers topics such as resume and LinkedIn cleanup, crafting a compelling career story, mastering behavioral questions, and formulating high-signal questions for interviewers.\n",
      "\n",
      "Article:\n",
      "The article contains detailed advice and strategies for preparing for and passing a first-round interview, with a focus on the tech sector. It includes tips for resume and LinkedIn cleanup, crafting a compelling career story, mastering behavioral questions, and formulating high-signal questions for interviewers. The article also includes examples and practical advice for each step of the interview preparation process.\n"
     ]
    }
   ],
   "source": [
    "print(cleaned_text)"
   ]
  },
  {
   "cell_type": "code",
   "execution_count": null,
   "metadata": {},
   "outputs": [],
   "source": [
    "usages"
   ]
  },
  {
   "cell_type": "code",
   "execution_count": null,
   "metadata": {},
   "outputs": [],
   "source": []
  }
 ],
 "metadata": {
  "kernelspec": {
   "display_name": "blogscraper-env",
   "language": "python",
   "name": "python3"
  },
  "language_info": {
   "codemirror_mode": {
    "name": "ipython",
    "version": 3
   },
   "file_extension": ".py",
   "mimetype": "text/x-python",
   "name": "python",
   "nbconvert_exporter": "python",
   "pygments_lexer": "ipython3",
   "version": "3.11.4"
  }
 },
 "nbformat": 4,
 "nbformat_minor": 2
}
