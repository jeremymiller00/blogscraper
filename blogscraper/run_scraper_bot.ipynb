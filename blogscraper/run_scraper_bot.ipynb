{
 "cells": [
  {
   "cell_type": "code",
   "execution_count": null,
   "metadata": {},
   "outputs": [],
   "source": [
    "# Run Scraper Bot"
   ]
  },
  {
   "cell_type": "code",
   "execution_count": 1,
   "metadata": {},
   "outputs": [],
   "source": [
    "# import json\n",
    "# import tiktoken\n",
    "# from collections import Counter\n",
    "# from markdownify import markdownify as md\n",
    "# import requests\n",
    "# from bs4 import BeautifulSoup\n",
    "# from datetime import datetime\n",
    "\n",
    "# from blogscraper.basebot import BaseBot\n",
    "# from blogscraper.LanguageModel import LanguageModel\n",
    "from staysaasy_bot import StaySaasyBot\n",
    "from eugeneyan_bot import EugeneYanBot\n",
    "from app import UserInterface\n",
    "from language_model import LanguageModel\n",
    "import config\n",
    "import requests\n",
    "from bs4 import BeautifulSoup\n",
    "from markdownify import markdownify as md\n",
    "import re"
   ]
  },
  {
   "cell_type": "code",
   "execution_count": 2,
   "metadata": {},
   "outputs": [],
   "source": [
    "ui = UserInterface(logfile_path=\"../logs/logs.log\") # need modified path for invoking from within directory"
   ]
  },
  {
   "cell_type": "code",
   "execution_count": 3,
   "metadata": {},
   "outputs": [
    {
     "name": "stderr",
     "output_type": "stream",
     "text": [
      "2024-01-06 10:00:03,828 INFO Loaded database from file\n"
     ]
    }
   ],
   "source": [
    "ui.read_database()"
   ]
  },
  {
   "cell_type": "code",
   "execution_count": 4,
   "metadata": {},
   "outputs": [
    {
     "data": {
      "text/plain": [
       "{'Eugene Yan': {'base_url': 'https://eugeneyan.com/writing',\n",
       "  'bot': 'eugeneyanbot'}}"
      ]
     },
     "execution_count": 4,
     "metadata": {},
     "output_type": "execute_result"
    }
   ],
   "source": [
    "config.BLOGS"
   ]
  },
  {
   "cell_type": "code",
   "execution_count": 5,
   "metadata": {},
   "outputs": [],
   "source": [
    "bot = EugeneYanBot(blog_name='Eugene Yan', database=ui.database, debug=True)"
   ]
  },
  {
   "cell_type": "code",
   "execution_count": 6,
   "metadata": {},
   "outputs": [],
   "source": [
    "# bot.get_blog_pages()"
   ]
  },
  {
   "cell_type": "code",
   "execution_count": 7,
   "metadata": {},
   "outputs": [],
   "source": [
    "pages = requests.get(config.BLOGS.get('Eugene Yan').get(\"base_url\"),timeout=100)"
   ]
  },
  {
   "cell_type": "code",
   "execution_count": 8,
   "metadata": {},
   "outputs": [],
   "source": [
    "soup = BeautifulSoup(pages.content, 'html.parser')"
   ]
  },
  {
   "cell_type": "code",
   "execution_count": 9,
   "metadata": {},
   "outputs": [],
   "source": [
    "link_list = [link.get('href') for link in soup.find_all('a')]\n",
    "link_list_filtered = [link for link in link_list if link[:9] == '/writing/' and len(link) > 9]"
   ]
  },
  {
   "cell_type": "code",
   "execution_count": 10,
   "metadata": {},
   "outputs": [
    {
     "data": {
      "text/plain": [
       "['/writing/2023-review/',\n",
       " '/writing/push/',\n",
       " '/writing/finetuning/',\n",
       " '/writing/aieng-reflections/',\n",
       " '/writing/abstractive/',\n",
       " '/writing/llm-problems/',\n",
       " '/writing/llm-patterns/',\n",
       " '/writing/obsidian-copilot/',\n",
       " '/writing/attention/',\n",
       " '/writing/open-llms/',\n",
       " '/writing/llm-ux/',\n",
       " '/writing/more-patterns/',\n",
       " '/writing/raspberry-llm/',\n",
       " '/writing/llm-experiments/',\n",
       " '/writing/llm-bio/',\n",
       " '/writing/labeling-guidelines/',\n",
       " '/writing/content-moderation/',\n",
       " '/writing/mechanisms-for-teams/',\n",
       " '/writing/mechanisms-for-projects/',\n",
       " '/writing/roam-to-obsidian/',\n",
       " '/writing/getting-help/',\n",
       " '/writing/2022-in-review/',\n",
       " '/writing/autoencoders-vs-diffusers/',\n",
       " '/writing/text-to-image/',\n",
       " '/writing/recsys2022/',\n",
       " '/writing/testing-pipelines/',\n",
       " '/writing/simplicity/',\n",
       " '/writing/uncommon-python/',\n",
       " '/writing/15-5/',\n",
       " '/writing/design-patterns/',\n",
       " '/writing/onboarding/',\n",
       " '/writing/bandits/',\n",
       " '/writing/position-bias/',\n",
       " '/writing/counterfactual-evaluation/',\n",
       " '/writing/intent-vs-requirements/',\n",
       " '/writing/project-quick-start/',\n",
       " '/writing/becoming-a-data-leader/',\n",
       " '/writing/red-flags/',\n",
       " '/writing/how-to-keep-learning/',\n",
       " '/writing/2021-year-in-review/',\n",
       " '/writing/applyingml/',\n",
       " '/writing/what-i-learned-from-writing-online-susan-shu/',\n",
       " '/writing/what-i-learned-from-writing-online/',\n",
       " '/writing/recsys2021/',\n",
       " '/writing/first-rule-of-ml/',\n",
       " '/writing/reinforcement-learning-for-recsys-and-search/',\n",
       " '/writing/bootstrapping-data-labels/',\n",
       " '/writing/mailbag-bootstrap-relevant-docs/',\n",
       " '/writing/influencing-without-authority/',\n",
       " '/writing/system-design-for-discovery/',\n",
       " '/writing/patterns-for-personalization/',\n",
       " '/writing/machine-learning-metagame/',\n",
       " '/writing/search-query-matching/',\n",
       " '/writing/imposter-syndrome-susan/',\n",
       " '/writing/imposter-syndrome/',\n",
       " '/writing/values-and-superpowers/',\n",
       " '/writing/how-to-choose-problems/',\n",
       " '/writing/seven-habits-that-shaped-my-decade/',\n",
       " '/writing/ml-design-docs/',\n",
       " '/writing/writing-docs-why-what-how/',\n",
       " '/writing/feature-stores/',\n",
       " '/writing/how-to-win-data-hackathon/',\n",
       " '/writing/data-science-teams/',\n",
       " '/writing/you-dont-need-another-mooc/',\n",
       " '/writing/mailbag-resume-for-experienced-ds/',\n",
       " '/writing/real-time-recommendations/',\n",
       " '/writing/2021-roadmap/',\n",
       " '/writing/retrospective-2020/',\n",
       " '/writing/flying-dagger/',\n",
       " '/writing/how-i-reflect-and-plan/',\n",
       " '/writing/informal-mentors-alexey-grigorev/',\n",
       " '/writing/mailbag-blog-architecture/',\n",
       " '/writing/life-lessons-from-machine-learning/',\n",
       " '/writing/role-title-mismatch/',\n",
       " '/writing/data-science-roles/',\n",
       " '/writing/informal-mentors-chip-huyen/',\n",
       " '/writing/data-discovery-platforms/',\n",
       " '/writing/netlify-back-to-github-pages/',\n",
       " '/writing/data-science-portfolio-how-why-what/',\n",
       " '/writing/how-to-install-scann-on-mac/',\n",
       " '/writing/prototyping-to-get-buy-in/',\n",
       " '/writing/writing-and-coding/',\n",
       " '/writing/recsys2020/',\n",
       " '/writing/present/',\n",
       " '/writing/favorite-productivity-coffee-routines-habits/',\n",
       " '/writing/how-to-accomplish-more-with-less/',\n",
       " '/writing/migrating-to-utterances/',\n",
       " '/writing/testing-ml/',\n",
       " '/writing/mailbag-pdf-fields/',\n",
       " '/writing/why-read-papers/',\n",
       " '/writing/mailbag-senior-ds/',\n",
       " '/writing/beginners-mind/',\n",
       " '/writing/nlp-supervised-learning-survey/',\n",
       " '/writing/end-to-end-data-science/',\n",
       " '/writing/fastapi-html-checkbox-download/',\n",
       " '/writing/what-i-did-not-learn-about-writing-in-school/',\n",
       " '/writing/georgia-tech-omscs-faq/',\n",
       " '/writing/how-to-set-up-html-app-with-fastapi-jinja-forms-templates/',\n",
       " '/writing/why-you-need-to-follow-up-after-your-data-science-project/',\n",
       " '/writing/what-i-do-during-a-data-science-project-to-ensure-success/',\n",
       " '/writing/how-to-update-github-profile-readme-automatically/',\n",
       " '/writing/when-giving-your-100-gets-you-less-than-85/',\n",
       " '/writing/notes-from-sparkai-summit-application-specific/',\n",
       " '/writing/notes-from-sparkai-summit-application-agnostic/',\n",
       " '/writing/setting-up-python-project-for-automation-and-collaboration/',\n",
       " '/writing/mailbag-ds-requirements/',\n",
       " '/writing/why-airflow-jobs-one-day-late/',\n",
       " '/writing/what-i-do-before-a-data-science-project-to-ensure-success/',\n",
       " '/writing/what-i-love-about-scrum-for-data-science/',\n",
       " '/writing/how-to-apply-crockers-law-for-feedback-and-growth/',\n",
       " '/writing/practical-guide-to-maintaining-machine-learning/',\n",
       " '/writing/challenges-after-deploying-machine-learning/',\n",
       " '/writing/how-to-write-david-x-sahil/',\n",
       " '/writing/evaluating-ideas-at-a-hackathon/',\n",
       " '/writing/serendipity-and-accuracy-in-recommender-systems/',\n",
       " '/writing/how-to-give-a-kick-ass-data-science-talk/',\n",
       " '/writing/commando-soldier-police-and-your-career/',\n",
       " '/writing/note-taking-zettelkasten/',\n",
       " '/writing/reading-note-taking-writing/',\n",
       " '/writing/experimentation-workflow-with-jupyter-papermill-mlflow/',\n",
       " '/writing/psych-grad-to-data-science-lead/',\n",
       " '/writing/recommender-systems-graph-and-nlp-pytorch/',\n",
       " '/writing/recommender-systems-baseline-pytorch/',\n",
       " '/writing/omscs-cs6200-introduction-to-operating-systems/',\n",
       " '/writing/omscs-cs6750-human-computer-interaction/',\n",
       " '/writing/goodbye-wordpress-hello-jekyll',\n",
       " '/writing/omscs-cs6440-intro-to-health-informatics/',\n",
       " '/writing/omscs-cs7646-machine-learning-for-trading/',\n",
       " '/writing/what-does-a-data-scientist-really-do/',\n",
       " '/writing/data-science-and-agile-frameworks-for-effectiveness/',\n",
       " '/writing/data-science-and-agile-what-works-and-what-doesnt/',\n",
       " '/writing/omscs-cs6601-artificial-intelligence/',\n",
       " '/writing/omscs-cs6460-education-technology/',\n",
       " '/writing/omscs-cs7642-reinforcement-learning/',\n",
       " '/writing/building-a-strong-data-science-team-culture/',\n",
       " '/writing/omscs-cs7641-machine-learning/',\n",
       " '/writing/my-first-100-days-as-data-science-lead/',\n",
       " '/writing/omscs-cs6300-software-development-process/',\n",
       " '/writing/how-to-get-started-in-data-science/',\n",
       " '/writing/omscs-cs6476-computer-vision/',\n",
       " '/writing/one-way-to-help-a-data-science-team-succeed/',\n",
       " '/writing/product-categorization-api-part-3-creating-an-api/',\n",
       " '/writing/image-search-is-now-live/',\n",
       " '/writing/product-categorization-api-part-2-data-preparation/',\n",
       " '/writing/image-categorization-is-now-live/',\n",
       " '/writing/im-going-back-to-school/',\n",
       " '/writing/sortmyskills-is-now-live/',\n",
       " '/writing/product-categorization-api-part-1-data-acquisition-and-formatting/',\n",
       " '/writing/thoughts-on-functional-programming-in-scala-course-coursera/',\n",
       " '/writing/first-post/',\n",
       " '/writing/datakind-sg-project-accelerator/']"
      ]
     },
     "execution_count": 10,
     "metadata": {},
     "output_type": "execute_result"
    }
   ],
   "source": [
    "link_list_filtered"
   ]
  },
  {
   "cell_type": "code",
   "execution_count": 12,
   "metadata": {},
   "outputs": [],
   "source": [
    "base = config.BLOGS.get('Eugene Yan').get('base_url')"
   ]
  },
  {
   "cell_type": "code",
   "execution_count": 15,
   "metadata": {},
   "outputs": [],
   "source": [
    "link_list_appended = [base[:-8] + link for link in link_list_filtered]"
   ]
  },
  {
   "cell_type": "code",
   "execution_count": 16,
   "metadata": {},
   "outputs": [
    {
     "data": {
      "text/plain": [
       "['https://eugeneyan.com/writing/2023-review/',\n",
       " 'https://eugeneyan.com/writing/push/',\n",
       " 'https://eugeneyan.com/writing/finetuning/',\n",
       " 'https://eugeneyan.com/writing/aieng-reflections/',\n",
       " 'https://eugeneyan.com/writing/abstractive/',\n",
       " 'https://eugeneyan.com/writing/llm-problems/',\n",
       " 'https://eugeneyan.com/writing/llm-patterns/',\n",
       " 'https://eugeneyan.com/writing/obsidian-copilot/',\n",
       " 'https://eugeneyan.com/writing/attention/',\n",
       " 'https://eugeneyan.com/writing/open-llms/',\n",
       " 'https://eugeneyan.com/writing/llm-ux/',\n",
       " 'https://eugeneyan.com/writing/more-patterns/',\n",
       " 'https://eugeneyan.com/writing/raspberry-llm/',\n",
       " 'https://eugeneyan.com/writing/llm-experiments/',\n",
       " 'https://eugeneyan.com/writing/llm-bio/',\n",
       " 'https://eugeneyan.com/writing/labeling-guidelines/',\n",
       " 'https://eugeneyan.com/writing/content-moderation/',\n",
       " 'https://eugeneyan.com/writing/mechanisms-for-teams/',\n",
       " 'https://eugeneyan.com/writing/mechanisms-for-projects/',\n",
       " 'https://eugeneyan.com/writing/roam-to-obsidian/',\n",
       " 'https://eugeneyan.com/writing/getting-help/',\n",
       " 'https://eugeneyan.com/writing/2022-in-review/',\n",
       " 'https://eugeneyan.com/writing/autoencoders-vs-diffusers/',\n",
       " 'https://eugeneyan.com/writing/text-to-image/',\n",
       " 'https://eugeneyan.com/writing/recsys2022/',\n",
       " 'https://eugeneyan.com/writing/testing-pipelines/',\n",
       " 'https://eugeneyan.com/writing/simplicity/',\n",
       " 'https://eugeneyan.com/writing/uncommon-python/',\n",
       " 'https://eugeneyan.com/writing/15-5/',\n",
       " 'https://eugeneyan.com/writing/design-patterns/',\n",
       " 'https://eugeneyan.com/writing/onboarding/',\n",
       " 'https://eugeneyan.com/writing/bandits/',\n",
       " 'https://eugeneyan.com/writing/position-bias/',\n",
       " 'https://eugeneyan.com/writing/counterfactual-evaluation/',\n",
       " 'https://eugeneyan.com/writing/intent-vs-requirements/',\n",
       " 'https://eugeneyan.com/writing/project-quick-start/',\n",
       " 'https://eugeneyan.com/writing/becoming-a-data-leader/',\n",
       " 'https://eugeneyan.com/writing/red-flags/',\n",
       " 'https://eugeneyan.com/writing/how-to-keep-learning/',\n",
       " 'https://eugeneyan.com/writing/2021-year-in-review/',\n",
       " 'https://eugeneyan.com/writing/applyingml/',\n",
       " 'https://eugeneyan.com/writing/what-i-learned-from-writing-online-susan-shu/',\n",
       " 'https://eugeneyan.com/writing/what-i-learned-from-writing-online/',\n",
       " 'https://eugeneyan.com/writing/recsys2021/',\n",
       " 'https://eugeneyan.com/writing/first-rule-of-ml/',\n",
       " 'https://eugeneyan.com/writing/reinforcement-learning-for-recsys-and-search/',\n",
       " 'https://eugeneyan.com/writing/bootstrapping-data-labels/',\n",
       " 'https://eugeneyan.com/writing/mailbag-bootstrap-relevant-docs/',\n",
       " 'https://eugeneyan.com/writing/influencing-without-authority/',\n",
       " 'https://eugeneyan.com/writing/system-design-for-discovery/',\n",
       " 'https://eugeneyan.com/writing/patterns-for-personalization/',\n",
       " 'https://eugeneyan.com/writing/machine-learning-metagame/',\n",
       " 'https://eugeneyan.com/writing/search-query-matching/',\n",
       " 'https://eugeneyan.com/writing/imposter-syndrome-susan/',\n",
       " 'https://eugeneyan.com/writing/imposter-syndrome/',\n",
       " 'https://eugeneyan.com/writing/values-and-superpowers/',\n",
       " 'https://eugeneyan.com/writing/how-to-choose-problems/',\n",
       " 'https://eugeneyan.com/writing/seven-habits-that-shaped-my-decade/',\n",
       " 'https://eugeneyan.com/writing/ml-design-docs/',\n",
       " 'https://eugeneyan.com/writing/writing-docs-why-what-how/',\n",
       " 'https://eugeneyan.com/writing/feature-stores/',\n",
       " 'https://eugeneyan.com/writing/how-to-win-data-hackathon/',\n",
       " 'https://eugeneyan.com/writing/data-science-teams/',\n",
       " 'https://eugeneyan.com/writing/you-dont-need-another-mooc/',\n",
       " 'https://eugeneyan.com/writing/mailbag-resume-for-experienced-ds/',\n",
       " 'https://eugeneyan.com/writing/real-time-recommendations/',\n",
       " 'https://eugeneyan.com/writing/2021-roadmap/',\n",
       " 'https://eugeneyan.com/writing/retrospective-2020/',\n",
       " 'https://eugeneyan.com/writing/flying-dagger/',\n",
       " 'https://eugeneyan.com/writing/how-i-reflect-and-plan/',\n",
       " 'https://eugeneyan.com/writing/informal-mentors-alexey-grigorev/',\n",
       " 'https://eugeneyan.com/writing/mailbag-blog-architecture/',\n",
       " 'https://eugeneyan.com/writing/life-lessons-from-machine-learning/',\n",
       " 'https://eugeneyan.com/writing/role-title-mismatch/',\n",
       " 'https://eugeneyan.com/writing/data-science-roles/',\n",
       " 'https://eugeneyan.com/writing/informal-mentors-chip-huyen/',\n",
       " 'https://eugeneyan.com/writing/data-discovery-platforms/',\n",
       " 'https://eugeneyan.com/writing/netlify-back-to-github-pages/',\n",
       " 'https://eugeneyan.com/writing/data-science-portfolio-how-why-what/',\n",
       " 'https://eugeneyan.com/writing/how-to-install-scann-on-mac/',\n",
       " 'https://eugeneyan.com/writing/prototyping-to-get-buy-in/',\n",
       " 'https://eugeneyan.com/writing/writing-and-coding/',\n",
       " 'https://eugeneyan.com/writing/recsys2020/',\n",
       " 'https://eugeneyan.com/writing/present/',\n",
       " 'https://eugeneyan.com/writing/favorite-productivity-coffee-routines-habits/',\n",
       " 'https://eugeneyan.com/writing/how-to-accomplish-more-with-less/',\n",
       " 'https://eugeneyan.com/writing/migrating-to-utterances/',\n",
       " 'https://eugeneyan.com/writing/testing-ml/',\n",
       " 'https://eugeneyan.com/writing/mailbag-pdf-fields/',\n",
       " 'https://eugeneyan.com/writing/why-read-papers/',\n",
       " 'https://eugeneyan.com/writing/mailbag-senior-ds/',\n",
       " 'https://eugeneyan.com/writing/beginners-mind/',\n",
       " 'https://eugeneyan.com/writing/nlp-supervised-learning-survey/',\n",
       " 'https://eugeneyan.com/writing/end-to-end-data-science/',\n",
       " 'https://eugeneyan.com/writing/fastapi-html-checkbox-download/',\n",
       " 'https://eugeneyan.com/writing/what-i-did-not-learn-about-writing-in-school/',\n",
       " 'https://eugeneyan.com/writing/georgia-tech-omscs-faq/',\n",
       " 'https://eugeneyan.com/writing/how-to-set-up-html-app-with-fastapi-jinja-forms-templates/',\n",
       " 'https://eugeneyan.com/writing/why-you-need-to-follow-up-after-your-data-science-project/',\n",
       " 'https://eugeneyan.com/writing/what-i-do-during-a-data-science-project-to-ensure-success/',\n",
       " 'https://eugeneyan.com/writing/how-to-update-github-profile-readme-automatically/',\n",
       " 'https://eugeneyan.com/writing/when-giving-your-100-gets-you-less-than-85/',\n",
       " 'https://eugeneyan.com/writing/notes-from-sparkai-summit-application-specific/',\n",
       " 'https://eugeneyan.com/writing/notes-from-sparkai-summit-application-agnostic/',\n",
       " 'https://eugeneyan.com/writing/setting-up-python-project-for-automation-and-collaboration/',\n",
       " 'https://eugeneyan.com/writing/mailbag-ds-requirements/',\n",
       " 'https://eugeneyan.com/writing/why-airflow-jobs-one-day-late/',\n",
       " 'https://eugeneyan.com/writing/what-i-do-before-a-data-science-project-to-ensure-success/',\n",
       " 'https://eugeneyan.com/writing/what-i-love-about-scrum-for-data-science/',\n",
       " 'https://eugeneyan.com/writing/how-to-apply-crockers-law-for-feedback-and-growth/',\n",
       " 'https://eugeneyan.com/writing/practical-guide-to-maintaining-machine-learning/',\n",
       " 'https://eugeneyan.com/writing/challenges-after-deploying-machine-learning/',\n",
       " 'https://eugeneyan.com/writing/how-to-write-david-x-sahil/',\n",
       " 'https://eugeneyan.com/writing/evaluating-ideas-at-a-hackathon/',\n",
       " 'https://eugeneyan.com/writing/serendipity-and-accuracy-in-recommender-systems/',\n",
       " 'https://eugeneyan.com/writing/how-to-give-a-kick-ass-data-science-talk/',\n",
       " 'https://eugeneyan.com/writing/commando-soldier-police-and-your-career/',\n",
       " 'https://eugeneyan.com/writing/note-taking-zettelkasten/',\n",
       " 'https://eugeneyan.com/writing/reading-note-taking-writing/',\n",
       " 'https://eugeneyan.com/writing/experimentation-workflow-with-jupyter-papermill-mlflow/',\n",
       " 'https://eugeneyan.com/writing/psych-grad-to-data-science-lead/',\n",
       " 'https://eugeneyan.com/writing/recommender-systems-graph-and-nlp-pytorch/',\n",
       " 'https://eugeneyan.com/writing/recommender-systems-baseline-pytorch/',\n",
       " 'https://eugeneyan.com/writing/omscs-cs6200-introduction-to-operating-systems/',\n",
       " 'https://eugeneyan.com/writing/omscs-cs6750-human-computer-interaction/',\n",
       " 'https://eugeneyan.com/writing/goodbye-wordpress-hello-jekyll',\n",
       " 'https://eugeneyan.com/writing/omscs-cs6440-intro-to-health-informatics/',\n",
       " 'https://eugeneyan.com/writing/omscs-cs7646-machine-learning-for-trading/',\n",
       " 'https://eugeneyan.com/writing/what-does-a-data-scientist-really-do/',\n",
       " 'https://eugeneyan.com/writing/data-science-and-agile-frameworks-for-effectiveness/',\n",
       " 'https://eugeneyan.com/writing/data-science-and-agile-what-works-and-what-doesnt/',\n",
       " 'https://eugeneyan.com/writing/omscs-cs6601-artificial-intelligence/',\n",
       " 'https://eugeneyan.com/writing/omscs-cs6460-education-technology/',\n",
       " 'https://eugeneyan.com/writing/omscs-cs7642-reinforcement-learning/',\n",
       " 'https://eugeneyan.com/writing/building-a-strong-data-science-team-culture/',\n",
       " 'https://eugeneyan.com/writing/omscs-cs7641-machine-learning/',\n",
       " 'https://eugeneyan.com/writing/my-first-100-days-as-data-science-lead/',\n",
       " 'https://eugeneyan.com/writing/omscs-cs6300-software-development-process/',\n",
       " 'https://eugeneyan.com/writing/how-to-get-started-in-data-science/',\n",
       " 'https://eugeneyan.com/writing/omscs-cs6476-computer-vision/',\n",
       " 'https://eugeneyan.com/writing/one-way-to-help-a-data-science-team-succeed/',\n",
       " 'https://eugeneyan.com/writing/product-categorization-api-part-3-creating-an-api/',\n",
       " 'https://eugeneyan.com/writing/image-search-is-now-live/',\n",
       " 'https://eugeneyan.com/writing/product-categorization-api-part-2-data-preparation/',\n",
       " 'https://eugeneyan.com/writing/image-categorization-is-now-live/',\n",
       " 'https://eugeneyan.com/writing/im-going-back-to-school/',\n",
       " 'https://eugeneyan.com/writing/sortmyskills-is-now-live/',\n",
       " 'https://eugeneyan.com/writing/product-categorization-api-part-1-data-acquisition-and-formatting/',\n",
       " 'https://eugeneyan.com/writing/thoughts-on-functional-programming-in-scala-course-coursera/',\n",
       " 'https://eugeneyan.com/writing/first-post/',\n",
       " 'https://eugeneyan.com/writing/datakind-sg-project-accelerator/']"
      ]
     },
     "execution_count": 16,
     "metadata": {},
     "output_type": "execute_result"
    }
   ],
   "source": [
    "link_list_appended"
   ]
  },
  {
   "cell_type": "code",
   "execution_count": 17,
   "metadata": {},
   "outputs": [],
   "source": [
    "page = requests.get(link_list_appended[0], timeout=100)"
   ]
  },
  {
   "cell_type": "code",
   "execution_count": 18,
   "metadata": {},
   "outputs": [],
   "source": [
    "soup = BeautifulSoup(page.content, 'html.parser')"
   ]
  },
  {
   "cell_type": "code",
   "execution_count": 19,
   "metadata": {},
   "outputs": [
    {
     "name": "stdout",
     "output_type": "stream",
     "text": [
      "2023 Year in RevieweugeneyanStart Here\n",
      "Writing\n",
      "Speaking\n",
      "Prototyping\n",
      "About2023 Year in Review[\n",
      "life\n",
      "career\n",
      "]\n",
      " · 8 min read2023 was a peaceful year of small, steady steps. There were no major lifestyle changes and I had the time and energy to explore new interests and focus on learning. Here’s my 2023 year in review, including goals, highlights, and statistics.\n",
      "Past years: 2020, 2021, 2022\n",
      "Goals\n",
      "First, checking in on the goals I had set for myself last year:Write 26 posts 💪: I wrote 20 posts, hacked on five prototypes, and gave two talks. My writing covered topics such as project mechanisms, content moderation, ML patterns, experiments with LLMs, and LLM patterns. The last two were well received and gained the 🔥 tag (>20k views).\n",
      "Learn something new ✅: Though I learned a lot about Search on the job, I lacked the fundamentals. Grant Ingersoll and Dan Tunkelang’s excellent Search track helped to fill this gap. I also dove deep into content moderation and labeling queues for work, and spent many nights and weekends tinkering with LLMs.\n",
      "Work with a career coach 💪: GPT-4 has been effective at helping me reflect and consider various perspectives, and suggesting next steps. That said, I wonder if I should still get a human career coach, and am open to recommendations!\n",
      "Advance the industry ✅: I think my writing on LLMs has helped here. That said, I haven’t convinced enough people that lexical search should be part of RAG.\n",
      "Learn to snowboard ✅: My wife and I started on the blue slopes this week!\n",
      "Read fiction ❌: I was mostly occupied with the firehose of GenAI papers and advancements. Nonetheless, I was able to make time for some fiction, mostly sci-fi (Pandemic, Genome) and short stories (Ted Chiang, Cixin Liu).\n",
      "Meditate 60 minutes daily ❌: I didn’t do the full 60 minutes and funneled some time towards exercise and journaling instead.I wished I could have found more time to meditate and read fiction but it’s been tough this year with all the learning I’ve had to do. Nonetheless, I’m happy with the progress on the other goals. Beyond the goals, I also had a few other highlights.\n",
      "Exploring LLMs\n",
      "With the step-change improvement from gpt-3.5-turbo, I started paying more attention to language modeling (LM) at the start of 2023. Thankfully, I had some familiarity with the subject, having previously applied LM models to recommender systems and experimented with gpt-3 for simple summarizations. To catch up, I did some experimentation and prototyping to learn the strengths and limits of autoregressive LMs. These prototypes included Discord bots, UIs for interacting with LLMs, Obsidian copilot based on lexical and embedding-based RAG, and finetuning a hallucination classifier on out-of-domain data.\n",
      "This self-learning set me up for success at internal hackathons. Our first prototype, codenamed Dewey, did well (shout out to my awesome partner-in-crime Kelly N!) This gave me the courage to ask if I could start working on GenAI at least one day per week, and perhaps eventually transition to half-time. This request went better than expected…\n",
      "Transitioning to a new role\n",
      "Since then, my Charter has expanded to include working on GenAI initiatives across the org. This includes educating the working level and senior leadership, as well as figuring out how to deploy GenAI reliably and cost-effectively at scale. We’ve organized two fruitful hackathons: Two prototypes have been launched while two more are in progress.\n",
      "Writing and speaking\n",
      "Although I didn’t hit my goal of 26 posts, I’m proud of the writing I’ve done this year. Some pieces that have been impactful include:Patterns for Building LLM-based Systems & Products\n",
      "More Design Patterns For Machine Learning Systems\n",
      "Content Moderation & Fraud Detection - Patterns in Industry\n",
      "Evaluation & Hallucination Detection for Abstractive SummariesMuch of my writing is a byproduct of my work building ML systems, and in return it contributes to me being more effective at the work. Writing helps identify and fill my knowledge gaps, refine my thinking, and scale my sharing. (I learned that my leadership reads my writing and tweets 😱)\n",
      "As usual, I found writing easier when I write with a specific person in mind (instead of a vague general audience). Some example pieces and their audience-of-one include:Dependency teams and Matching LLM patterns was written for mentees\n",
      "Labeling guides and Attention & Transformers was written for PMs\n",
      "Project mechanisms and Team mechanisms was written for tech managers\n",
      "LLM patterns and Summarization evals was written for senior leadersI also had the opportunity to speak at the inaugural AI Engineer Summit. The energy was inspiring (my recap here) and I got the chance to connect and stay in touch with several practitioners as we figure out how to use this new technology in production.\n",
      "In addition, I gave an invited keynote at the Amazon Machine Learning Conference. I took the chance to share the awesome work our team had done on session-based retrieval, contextual ranking, and cost-effective, just-in-time infrastructure. (I previously presented a public version at RecSys 2022 as a keynote too.)\n",
      "Paper club\n",
      "Together with a few friends, we started a paper club to read and discuss fundamental papers in the LM space. I believe we’ve learned more as a group than we could have individually, by pooling together our shared knowledge, experience, and questions. Here are one-sentence summaries for the earlier papers.\n",
      "Angel investments\n",
      "I made three angel investments in ML and tooling startups. This will likely be the volume of investments going forward. I’ve also become more selective, focusing on startups where I can provide the most value, mostly in the field of data and ML.\n",
      "Health\n",
      "I had a minor health scare (that involved bruising easily) that prompted me to reexamine my diet and exercise. My wife and I paid more scrutiny to our nutrition, such as reducing saturated fat and alcohol. We continued to keep sugar and processed food to a minimum.\n",
      "Also, while I’ve been consistent with weight training, I’ve been neglecting cardio. Thus, I started forcing myself to jog at least twice a week. On challenging weeks, I make do with 45-minute brisk walks. This has improved my resting heart rate and VO2 max.\n",
      "Goals for 2024Work: Continue shipping ML systems that serve customers at scale. Prototype on the side to test new tech (e.g., vision). Teach what I’ve learned.\n",
      "Writing: Write 6 good pieces. I previously focused on quantity (writing once a week) to build the habit. Now that it’s stable, I’ll invest more time into each piece, especially writes-ups that require more research or prototyping.\n",
      "Health: Minimize sugar, saturated fat, alcohol, and processed food in my diet. Exercise five days a week, with at least two days of cardio. 30 minutes of gratitude journaling and meditation first thing in the morning.\n",
      "Travel: Make time for two vacations (likely Las Vegas and Alaska).\n",
      "Snowboarding: Aiming to start hitting the black slopes by the end of the year.\n",
      "Learn something new: This is standard by now but I’ll keep it for tracking.Mission statement (v5)\n",
      "I wrote my first mission statement in 2013 and have been revising it every year or so. Here’s the latest iteration, written while on the flight back from SF after a particularly inspiring and energizing week. Fun fact: It started as a tweet and fits in 280 chars.\n",
      "• Work hard\n",
      "• Keep learning\n",
      "• Cherish loved ones\n",
      "• Find people who inspire you\n",
      "• Be kind & egoless\n",
      "• Eat healthy, exercise, sleep well\n",
      "• Read & write\n",
      "• Practice gratitude & meditate\n",
      "• Be present\n",
      "• Enjoy food & nature\n",
      "• Don’t sweat the small stuff\n",
      "• SmileStatistics for 2023\n",
      "Here’s a word cloud of my writing in 2023. The top themes (user, data, model) have been consistent though the focus on LLMs is new. (Word cloud from a previous year here.)Word cloud of my writing in 2023\n",
      "This site saw 259k unique visitors in 2023, an increase of 21% from 2022.Number of unique visitors in 2023\n",
      "The incoming channels were mostly direct, organic search, and organic social. The US is the largest source by far (and it looks like my audience in Singapore is tapering 😢).Channel and geography of readers in 2023\n",
      "The top pages in 2023 were mostly broader pieces on patterns and system design. Old but gold pieces continue to be in the top 10, including: (i) recsys system design, (ii) writing why what how, and (iii) real-time retrieval.Top 10 most visited pages in 2023\n",
      "Clicks via Google search was mostly flat at 77.6k, though impressions increased from 2.14M to 2.71M (+27%). As a result, average CTR dropped from 3.6% to 2.9% (-19%).Google search traffic in 2023\n",
      "Miscellaneous social metricsEmail: Subscriber count grew from 4.2k to 6.2k; 55.7% open rate, 6.8% click rate.\n",
      "Twitter: Follower count grew from 9.5k to 15.8k\n",
      "LinkedIn: Follower count grew from 27.1k to 32.7kEmail subscriber growth in 2023If you found this useful, please cite this write-up as:Yan, Ziyou. (Dec 2023). 2023 Year in Review. eugeneyan.com.\n",
      "https://eugeneyan.com/writing/2023-review/.or\n",
      "@article{yan20232023-review,\n",
      "  title   = {2023 Year in Review},\n",
      "  author  = {Yan, Ziyou},\n",
      "  journal = {eugeneyan.com},\n",
      "  year    = {2023},\n",
      "  month   = {Dec},\n",
      "  url     = {https://eugeneyan.com/writing/2023-review/}\n",
      "}Share on: Browse related tags: [\n",
      "life\n",
      "career\n",
      "] \n",
      "Search« Push Notifications - What to Push, What Not to Push, and How OftenJoin 6,200+ readers getting updates on machine learning, RecSys, LLMs, and engineering.Get email updatesTwitterLinkedInThreadsGitHubEugene Yan designs, builds, and operates machine learning systems that serve customers at scale.\n",
      "He's currently a Senior Applied Scientist at Amazon. Previously, he led machine learning at Lazada\n",
      "(acquired by Alibaba) and a Healthtech Series A. He writes &\n",
      "speaks about machine learning, recommenders, LLMs, and engineering\n",
      "at eugeneyan.com and\n",
      "ApplyingML.com.© Eugene Yan 2015 - 2024\n",
      "• Feedback\n",
      "• RSS\n"
     ]
    }
   ],
   "source": [
    "print(re.sub(r'(?:\\r?\\n|\\r){2,}', \"\", soup.get_text()))"
   ]
  },
  {
   "cell_type": "code",
   "execution_count": null,
   "metadata": {},
   "outputs": [],
   "source": [
    "soup.title.string.replace(\":\", \" \").replace(\"/\", \" \")"
   ]
  },
  {
   "cell_type": "code",
   "execution_count": null,
   "metadata": {},
   "outputs": [],
   "source": [
    "lm = LanguageModel()"
   ]
  },
  {
   "cell_type": "code",
   "execution_count": null,
   "metadata": {},
   "outputs": [],
   "source": [
    "cleaned_text, usages = lm.clean_blog(soup.get_text())"
   ]
  },
  {
   "cell_type": "code",
   "execution_count": null,
   "metadata": {},
   "outputs": [],
   "source": [
    "print(cleaned_text)"
   ]
  },
  {
   "cell_type": "code",
   "execution_count": null,
   "metadata": {},
   "outputs": [],
   "source": [
    "usages"
   ]
  },
  {
   "cell_type": "code",
   "execution_count": null,
   "metadata": {},
   "outputs": [],
   "source": []
  }
 ],
 "metadata": {
  "kernelspec": {
   "display_name": "blogscraper-env",
   "language": "python",
   "name": "python3"
  },
  "language_info": {
   "codemirror_mode": {
    "name": "ipython",
    "version": 3
   },
   "file_extension": ".py",
   "mimetype": "text/x-python",
   "name": "python",
   "nbconvert_exporter": "python",
   "pygments_lexer": "ipython3",
   "version": "3.11.4"
  }
 },
 "nbformat": 4,
 "nbformat_minor": 2
}
