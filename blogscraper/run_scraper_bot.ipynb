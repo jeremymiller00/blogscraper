{
 "cells": [
  {
   "cell_type": "code",
   "execution_count": 1,
   "metadata": {},
   "outputs": [],
   "source": [
    "# Run Scraper Bot"
   ]
  },
  {
   "cell_type": "code",
   "execution_count": 1,
   "metadata": {},
   "outputs": [],
   "source": [
    "# import json\n",
    "# import tiktoken\n",
    "# from collections import Counter\n",
    "# from markdownify import markdownify as md\n",
    "# import requests\n",
    "# from bs4 import BeautifulSoup\n",
    "# from datetime import datetime\n",
    "\n",
    "# from blogscraper.basebot import BaseBot\n",
    "# from blogscraper.LanguageModel import LanguageModel\n",
    "from staysaasy_bot import StaySaasyBot\n",
    "from app import UserInterface\n",
    "from language_model import LanguageModel\n",
    "import config\n",
    "import requests\n",
    "from bs4 import BeautifulSoup\n",
    "from markdownify import markdownify as md"
   ]
  },
  {
   "cell_type": "code",
   "execution_count": 2,
   "metadata": {},
   "outputs": [],
   "source": [
    "ui = UserInterface(logfile_path=\"../logs/logs.log\") # need modified path for invoking from within directory"
   ]
  },
  {
   "cell_type": "code",
   "execution_count": 3,
   "metadata": {},
   "outputs": [
    {
     "name": "stderr",
     "output_type": "stream",
     "text": [
      "2024-01-02 18:35:27,256 INFO Loaded database from file\n"
     ]
    }
   ],
   "source": [
    "ui.read_database()"
   ]
  },
  {
   "cell_type": "code",
   "execution_count": 4,
   "metadata": {},
   "outputs": [
    {
     "data": {
      "text/plain": [
       "{'Stay Sassy': {'base_url': 'https://staysaasy.com', 'bot': 'staysaasybot'}}"
      ]
     },
     "execution_count": 4,
     "metadata": {},
     "output_type": "execute_result"
    }
   ],
   "source": [
    "config.BLOGS"
   ]
  },
  {
   "cell_type": "code",
   "execution_count": 5,
   "metadata": {},
   "outputs": [],
   "source": [
    "bot = StaySaasyBot(blog_name='Stay Sassy', database=ui.database, debug=True)"
   ]
  },
  {
   "cell_type": "code",
   "execution_count": 6,
   "metadata": {},
   "outputs": [],
   "source": [
    "# bot.get_blog_pages()"
   ]
  },
  {
   "cell_type": "code",
   "execution_count": 7,
   "metadata": {},
   "outputs": [],
   "source": [
    "pages = requests.get(config.BLOGS.get('Stay Sassy').get(\"base_url\"),timeout=100)"
   ]
  },
  {
   "cell_type": "code",
   "execution_count": 8,
   "metadata": {},
   "outputs": [],
   "source": [
    "soup = BeautifulSoup(pages.content, 'html.parser')"
   ]
  },
  {
   "cell_type": "code",
   "execution_count": 9,
   "metadata": {},
   "outputs": [],
   "source": [
    "link_list = [link.get('href') for link in soup.find_all('a')]"
   ]
  },
  {
   "cell_type": "code",
   "execution_count": 10,
   "metadata": {},
   "outputs": [],
   "source": [
    "base = config.BLOGS.get('Stay Sassy').get(\"base_url\")\n"
   ]
  },
  {
   "cell_type": "code",
   "execution_count": 11,
   "metadata": {},
   "outputs": [],
   "source": [
    "link_list_filtered = [base + x for x in link_list if \"202\" in x]"
   ]
  },
  {
   "cell_type": "code",
   "execution_count": 12,
   "metadata": {},
   "outputs": [],
   "source": [
    "page = requests.get(link_list_filtered[0], timeout=100)"
   ]
  },
  {
   "cell_type": "code",
   "execution_count": 13,
   "metadata": {},
   "outputs": [],
   "source": [
    "soup = BeautifulSoup(page.content, 'html.parser')"
   ]
  },
  {
   "cell_type": "code",
   "execution_count": 15,
   "metadata": {},
   "outputs": [
    {
     "name": "stdout",
     "output_type": "stream",
     "text": [
      "\n",
      "\n",
      "\n",
      "\n",
      "\n",
      "\n",
      "\n",
      "\n",
      "\n",
      "\n",
      "\n",
      "\n",
      "\n",
      "\n",
      "\n",
      "\n",
      "\n",
      "\n",
      "\n",
      "\n",
      "\n",
      "\n",
      "\n",
      "\n",
      "\n",
      "\n",
      "\n",
      "\n",
      "This Is the Person Selling Your Product | Stay SaaSy\n",
      "\n",
      "\n",
      "\n",
      "\n",
      "\n",
      "\n",
      "\n",
      "\n",
      "\n",
      "\n",
      "\n",
      "\n",
      "\n",
      "\n",
      "\n",
      "\n",
      "\n",
      "\n",
      "\n",
      "\n",
      "\n",
      "\n",
      "\n",
      "\n",
      "\n",
      "\n",
      "\n",
      "        \n",
      "        Stay SaaSy\n",
      "      \n",
      "\n",
      "\n",
      "A guide to scaling product & engineering teams from $0 to past $100M ARR.\n",
      "\n",
      "\n",
      "About\n",
      "SaaSy Questions\n",
      "Guides\n",
      "Top Posts\n",
      "\n",
      "Subscribe\n",
      "@staysaasy\n",
      "\n",
      "\n",
      "\n",
      "\n",
      "\n",
      "\n",
      "\n",
      "\n",
      "\n",
      "\n",
      "\n",
      "\n",
      "\n",
      "\n",
      "\n",
      "\n",
      "\n",
      "\n",
      "\n",
      "\n",
      "  © 2024.\n",
      "  Stay SaaSy.\n",
      "\n",
      "\n",
      "\n",
      "\n",
      "This Is the Person Selling Your Product\n",
      "\n",
      "\n",
      "\n",
      "02 Jan 2024\n",
      "\n",
      "    \n",
      "      •\n",
      "\n",
      "      \n",
      "      \n",
      "      \n",
      "\n",
      "      \n",
      "        startups\n",
      "      \n",
      "    \n",
      "  \n",
      "\n",
      "\n",
      "I had many negative misconceptions about sales teams before working in SaaS. After years as an engineer and product manager, high-skills sales reps are one of the groups whom I respect the most. This is what I wish that someone had told me about sales before I began working in tech – an introduction to the person selling your product.\n",
      "The person selling your product matters.\n",
      "The person selling your product is not an optional add-on, or a glorified landing page who exists just to give demos. If the person selling your product is successful, you will sell more of your product for a higher price to happier customers. For many businesses, the speed gains when acquiring customers (deal velocity) and the higher price points their sales team allows them to command may be the difference between a fundable vs. unfundable startup, or a viable vs. unviable business. You need the person selling your product.\n",
      "Contrary to stereotypes, only part of sales actually involves convincing a customer to buy your product. The person selling your product spends a very large amount of time helping customers successfully navigate their own complex organizations, and purchase a product that they already want (yours).\n",
      "To do this, the person selling your product has real, tangible skills that help software purchases happen. They may not be “hard skills” like TypeScript or algorithms design or linear algebra, but they are real sales skills that are obviously identifiable when you see them. For example:\n",
      "\n",
      "Your buyer may be a terrible project manager, and incapable of running the 25-item checklist to get an enterprise purchase made. The person selling your product will become their project manager.\n",
      "Your buyer may not know how to put together a great 12-slide presentation pitching your software to their CEO – the person selling your product will teach them how.\n",
      "Your buyer may not even realize that they will need Security, Legal, and IT sign-off in order to get their purchase approved – the person selling your product will walk them through how to make this happen.\n",
      "Some of your potential buyers may not be able to pay full list price for your product, but as a high-margin software business these customers can still be profitable even with meaningful discounting. Sales is the mechanism that allows for effective price discovery.\n",
      "Your buyer has likely never met with a Procurement team before, and doesn’t know how to structure a deal that will work for both parties – the person selling your product knows all about payment terms, indemnification, and multi-year commitments, and will help them navigate this final hurdle.\n",
      "\n",
      "For proof that sales plays a critical role in getting deals done, consider that even the most dominant products – Alphabet and Meta – employ salespeople. At the most foundational level, sales works because spending money is an emotional decision, and the person selling your product provides the emotional lubricant to break through obstacles.\n",
      "The person selling your product is a high-end matchmaker, not a used-car salesman. One of the most important roles that they play is efficiently screening bad fit prospects, saving your entire business time. You can waste a shocking amount of time trying to close or support bad leads. The person selling your product is adept at qualifying leads and preventing them from poisoning your customer-base or sales process.\n",
      "On your team, the person selling your product seems kind of like a high school sports mascot – going to conferences, taking customers to steak dinners, banging gongs at the office. But at your customer’s company, they’re often a hero. The person selling your product can be a therapist, a political strategist, and at times a hostage negotiator. They’re both good cop and bad cop. The person selling your product, if they’re effective, operates with very high integrity. You would be surprised at how often great salespeople get invited to their customers’ weddings.\n",
      "The person selling your product has a difficult job.\n",
      "The person selling your product started their career in one of the most unforgiving jobs in tech – as a Sales Development Representative (SDR), effectively a cold-caller. They were tracked with productivity metrics such as number of calls taken and demos booked. Their calls were recorded and listened to by their manager. The person selling your product was one of the best cold-callers, and was only then promoted to the lowest rungs of salesperson. The fact that they still work in sales is confirmation that they’ve consistently hit ever-increasing targets since.\n",
      "If the person selling your product has a big account fall through, they’d better have other opportunities that can take its place. Even if losing that big prospect wasn’t their fault – the budget got cut, the buyer got laid off, the CEO got abducted by fucking aliens – this quarter’s commission check is now at risk and that nice gift for the kids might be gone with it. If the person selling your product misses the next quarter, they could be dusting off their resume.\n",
      "Every quarter means a newly reset quota for the person selling your product, and while their skills and network compound, the rest of their work does not. There’s no concept of understanding a software system better and using that as a foundation for greater things. The person selling your product respawns from the first checkpoint with no items on the first of every quarter.\n",
      "The person selling your product needs you.\n",
      "Great salespeople can largely sell anything – the key skills of sales (e.g. empathy, customer discovery, and general ability to keep a group organized) do transfer to an extent. But the place where the person selling your product can really shine is when they have a differentiated offering: One that is obviously more powerful, easier to use, cheaper, or easier to support than others. With a differentiated offering, the person selling your product can focus on all of the repeatable skills that will help your product fly off the shelves. As a product builder, you help determine whether the person selling your product ventures into the wilderness in a fully-stocked camper van or naked and empty-handed.\n",
      "So get closer to the person selling your product. Hop on a few sales calls – in aggregate, sales teams usually have a good sense for what it takes to win in your market. Help them sell your product better; let them help you build a better product. The person selling your product will make you both rich if you let them.\n",
      "\n",
      "\n",
      "\n",
      "\n",
      "\n",
      "\n",
      "\n",
      "\n",
      "        Share to\n",
      "        \n",
      "          Twitter\n",
      "        \n",
      "        ,\n",
      "        \n",
      "          Hacker News\n",
      "        \n",
      "        ,\n",
      "        \n",
      "          LinkedIn\n",
      "        \n",
      "\n",
      "\n",
      "\n",
      "\n",
      "\n",
      "\n",
      "\n",
      "\n",
      "\n",
      " startups\n",
      "\n",
      "\n",
      "\n",
      "\n",
      "\n",
      "\n",
      "\n",
      " product\n",
      "\n",
      "\n",
      "\n",
      "\n",
      "\n",
      "\n",
      "\n",
      " sales\n",
      "\n",
      "\n",
      "\n",
      "\n",
      "\n",
      "\n",
      "\n",
      " careers\n",
      "\n",
      "\n",
      "\n",
      "\n",
      "Recent Posts\n",
      "\n",
      "\n",
      "\n",
      "\n",
      "            2023: A SaaSy Year In Review\n",
      "            18 Dec 2023\n",
      "\n",
      "\n",
      "\n",
      "\n",
      "\n",
      "\n",
      "            Practical Ways To Increase Product Velocity\n",
      "            07 Dec 2023\n",
      "\n",
      "\n",
      "\n",
      "\n",
      "\n",
      "\n",
      "            Hidden in Plain Sight: Unraveling Big Problems Disguised as Small Unrelated Issues\n",
      "            26 Nov 2023\n",
      "\n",
      "\n",
      "\n",
      "\n",
      "\n",
      "    For new content, follow us at @staysaasy\n",
      "    or subscribe via email.\n",
      "  \n",
      "\n",
      "\n",
      "\n",
      "\n",
      "\n",
      "\n",
      "\n"
     ]
    }
   ],
   "source": [
    "print(soup.get_text())"
   ]
  },
  {
   "cell_type": "code",
   "execution_count": 16,
   "metadata": {},
   "outputs": [
    {
     "data": {
      "text/plain": [
       "'This Is the Person Selling Your Product | Stay SaaSy'"
      ]
     },
     "execution_count": 16,
     "metadata": {},
     "output_type": "execute_result"
    }
   ],
   "source": [
    "soup.title.string.replace(\":\", \" \").replace(\"/\", \" \")"
   ]
  },
  {
   "cell_type": "code",
   "execution_count": 17,
   "metadata": {},
   "outputs": [],
   "source": [
    "lm = LanguageModel()"
   ]
  },
  {
   "cell_type": "code",
   "execution_count": 18,
   "metadata": {},
   "outputs": [
    {
     "name": "stderr",
     "output_type": "stream",
     "text": [
      "2024-01-02 18:36:35,052 INFO Text not chunked\n",
      "2024-01-02 18:38:23,460 INFO HTTP Request: POST https://api.openai.com/v1/chat/completions \"HTTP/1.1 200 OK\"\n"
     ]
    }
   ],
   "source": [
    "cleaned_text, usages = lm.clean_blog(soup.get_text())"
   ]
  },
  {
   "cell_type": "code",
   "execution_count": 21,
   "metadata": {},
   "outputs": [
    {
     "name": "stdout",
     "output_type": "stream",
     "text": [
      "This Is the Person Selling Your Product\n",
      "\n",
      "I had many negative misconceptions about sales teams before working in SaaS. After years as an engineer and product manager, high-skills sales reps are one of the groups whom I respect the most. This is what I wish that someone had told me about sales before I began working in tech – an introduction to the person selling your product.\n",
      "The person selling your product matters.\n",
      "The person selling your product is not an optional add-on, or a glorified landing page who exists just to give demos. If the person selling your product is successful, you will sell more of your product for a higher price to happier customers. For many businesses, the speed gains when acquiring customers (deal velocity) and the higher price points their sales team allows them to command may be the difference between a fundable vs. unfundable startup, or a viable vs. unviable business. You need the person selling your product.\n",
      "Contrary to stereotypes, only part of sales actually involves convincing a customer to buy your product. The person selling your product spends a very large amount of time helping customers successfully navigate their own complex organizations, and purchase a product that they already want (yours).\n",
      "To do this, the person selling your product has real, tangible skills that help software purchases happen. They may not be “hard skills” like TypeScript or algorithms design or linear algebra, but they are real sales skills that are obviously identifiable when you see them. For example:\n",
      "\n",
      "Your buyer may be a terrible project manager, and incapable of running the 25-item checklist to get an enterprise purchase made. The person selling your product will become their project manager.\n",
      "Your buyer may not know how to put together a great 12-slide presentation pitching your software to their CEO – the person selling your product will teach them how.\n",
      "Your buyer may not even realize that they will need Security, Legal, and IT sign-off in order to get their purchase approved – the person selling your product will walk them through how to make this happen.\n",
      "Some of your potential buyers may not be able to pay full list price for your product, but as a high-margin software business these customers can still be profitable even with meaningful discounting. Sales is the mechanism that allows for effective price discovery.\n",
      "Your buyer has likely never met with a Procurement team before, and doesn’t know how to structure a deal that will work for both parties – the person selling your product knows all about payment terms, indemnification, and multi-year commitments, and will help them navigate this final hurdle.\n",
      "\n",
      "For proof that sales plays a critical role in getting deals done, consider that even the most dominant products – Alphabet and Meta – employ salespeople. At the most foundational level, sales works because spending money is an emotional decision, and the person selling your product provides the emotional lubricant to break through obstacles.\n",
      "The person selling your product is a high-end matchmaker, not a used-car salesman. One of the most important roles that they play is efficiently screening bad fit prospects, saving your entire business time. You can waste a shocking amount of time trying to close or support bad leads. The person selling your product is adept at qualifying leads and preventing them from poisoning your customer-base or sales process.\n",
      "On your team, the person selling your product seems kind of like a high school sports mascot – going to conferences, taking customers to steak dinners, banging gongs at the office. But at your customer’s company, they’re often a hero. The person selling your product can be a therapist, a political strategist, and at times a hostage negotiator. They’re both good cop and bad cop. The person selling your product, if they’re effective, operates with very high integrity. You would be surprised at how often great salespeople get invited to their customers’ weddings.\n",
      "The person selling your product has a difficult job.\n",
      "The person selling your product started their career in one of the most unforgiving jobs in tech – as a Sales Development Representative (SDR), effectively a cold-caller. They were tracked with productivity metrics such as number of calls taken and demos booked. Their calls were recorded and listened to by their manager. The person selling your product was one of the best cold-callers, and was only then promoted to the lowest rungs of salesperson. The fact that they still work in sales is confirmation that they’ve consistently hit ever-increasing targets since.\n",
      "If the person selling your product has a big account fall through, they’d better have other opportunities that can take its place. Even if losing that big prospect wasn’t their fault – the budget got cut, the buyer got laid off, the CEO got abducted by fucking aliens – this quarter’s commission check is now at risk and that nice gift for the kids might be gone with it. If the person selling your product misses the next quarter, they could be dusting off their resume.\n",
      "Every quarter means a newly reset quota for the person selling your product, and while their skills and network compound, the rest of their work does not. There’s no concept of understanding a software system better and using that as a foundation for greater things. The person selling your product respawns from the first checkpoint with no items on the first of every quarter.\n",
      "The person selling your product needs you.\n",
      "Great salespeople can largely sell anything – the key skills of sales (e.g. empathy, customer discovery, and general ability to keep a group organized) do transfer to an extent. But the place where the person selling your product can really shine is when they have a differentiated offering: One that is obviously more powerful, easier to use, cheaper, or easier to support than others. With a differentiated offering, the person selling your product can focus on all of the repeatable skills that will help your product fly off the shelves. As a product builder, you help determine whether the person selling your product ventures into the wilderness in a fully-stocked camper van or naked and empty-handed.\n",
      "So get closer to the person selling your product. Hop on a few sales calls – in aggregate, sales teams usually have a good sense for what it takes to win in your market. Help them sell your product better; let them help you build a better product. The person selling your product will make you both rich if you let them.\n"
     ]
    }
   ],
   "source": [
    "print(cleaned_text)"
   ]
  },
  {
   "cell_type": "code",
   "execution_count": 22,
   "metadata": {},
   "outputs": [
    {
     "data": {
      "text/plain": [
       "[CompletionUsage(completion_tokens=1268, prompt_tokens=1592, total_tokens=2860)]"
      ]
     },
     "execution_count": 22,
     "metadata": {},
     "output_type": "execute_result"
    }
   ],
   "source": [
    "usages"
   ]
  },
  {
   "cell_type": "code",
   "execution_count": null,
   "metadata": {},
   "outputs": [],
   "source": []
  }
 ],
 "metadata": {
  "kernelspec": {
   "display_name": "blogscraper-env",
   "language": "python",
   "name": "python3"
  },
  "language_info": {
   "codemirror_mode": {
    "name": "ipython",
    "version": 3
   },
   "file_extension": ".py",
   "mimetype": "text/x-python",
   "name": "python",
   "nbconvert_exporter": "python",
   "pygments_lexer": "ipython3",
   "version": "3.11.4"
  }
 },
 "nbformat": 4,
 "nbformat_minor": 2
}
