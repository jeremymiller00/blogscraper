{
 "cells": [
  {
   "cell_type": "code",
   "execution_count": 1,
   "metadata": {},
   "outputs": [],
   "source": [
    "# Run Scraper Bot"
   ]
  },
  {
   "cell_type": "code",
   "execution_count": 2,
   "metadata": {},
   "outputs": [],
   "source": [
    "# import json\n",
    "# import tiktoken\n",
    "# from collections import Counter\n",
    "# from markdownify import markdownify as md\n",
    "# import requests\n",
    "# from bs4 import BeautifulSoup\n",
    "# from datetime import datetime\n",
    "\n",
    "# from blogscraper.basebot import BaseBot\n",
    "# from blogscraper.LanguageModel import LanguageModel\n",
    "from blogscraper.substack_bot import SubstackBot\n",
    "from blogscraper import config"
   ]
  },
  {
   "cell_type": "code",
   "execution_count": 3,
   "metadata": {},
   "outputs": [],
   "source": [
    "for writer in config.BLOGS.keys():\n",
    "    if config.BLOGS.get(writer).get(\"bot\").lower() == \"substackbot\":\n",
    "        bot = SubstackBot(blog_name=writer, debug=True)\n",
    "        bot.run()"
   ]
  }
 ],
 "metadata": {
  "kernelspec": {
   "display_name": "blogscraper-env",
   "language": "python",
   "name": "python3"
  },
  "language_info": {
   "codemirror_mode": {
    "name": "ipython",
    "version": 3
   },
   "file_extension": ".py",
   "mimetype": "text/x-python",
   "name": "python",
   "nbconvert_exporter": "python",
   "pygments_lexer": "ipython3",
   "version": "3.11.4"
  }
 },
 "nbformat": 4,
 "nbformat_minor": 2
}
