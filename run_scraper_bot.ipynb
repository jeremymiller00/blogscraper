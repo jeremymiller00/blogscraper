{
 "cells": [
  {
   "cell_type": "code",
   "execution_count": 1,
   "metadata": {},
   "outputs": [],
   "source": [
    "# Run Scraper Bot"
   ]
  },
  {
   "cell_type": "code",
   "execution_count": 2,
   "metadata": {},
   "outputs": [],
   "source": [
    "import json\n",
    "from collections import Counter\n",
    "from markdownify import markdownify as md\n",
    "import requests\n",
    "from bs4 import BeautifulSoup\n",
    "from datetime import datetime\n",
    "\n",
    "# from blogscraper.basebot import BaseBot\n",
    "from blogscraper.SubstackBot import SubstackBot\n",
    "from blogscraper.LanguageModel import LanguageModel\n",
    "import blogscraper.config as config"
   ]
  },
  {
   "cell_type": "code",
   "execution_count": 3,
   "metadata": {},
   "outputs": [],
   "source": [
    "# for writer in config.BLOGS.keys():\n",
    "#     bot = SubstackBot(blog_name=writer)\n",
    "#     bot.run()"
   ]
  },
  {
   "cell_type": "code",
   "execution_count": 4,
   "metadata": {},
   "outputs": [],
   "source": [
    "# lm = LanguageModel(model=\"llama2\")\n",
    "lm = LanguageModel(model=\"gpt-3.5-turbo\")\n"
   ]
  },
  {
   "cell_type": "code",
   "execution_count": 6,
   "metadata": {},
   "outputs": [],
   "source": [
    "content, usage = lm.generate(\"Tell me about cats\")"
   ]
  },
  {
   "cell_type": "code",
   "execution_count": 11,
   "metadata": {},
   "outputs": [
    {
     "name": "stdout",
     "output_type": "stream",
     "text": [
      "Cats, also known as domestic cats or house cats, are small, carnivorous mammals that are often kept as pets. They belong to the Felidae family and are one of the most popular pets worldwide. Here are some key points about cats:\n",
      "\n",
      "1. History: Cats have a long history of association with humans, dating back thousands of years. They were first domesticated in ancient Egypt around 4,000 years ago and were highly revered by the Egyptians.\n",
      "\n",
      "2. Physical characteristics: Cats come in various breeds, each with its own unique appearance and traits. They typically have a slender body, sharp retractable claws, and a flexible spine that allows them to move with agility. Cats have excellent night vision and a keen sense of hearing.\n",
      "\n",
      "3. Behavior: Cats are known for their independent and curious nature. They are skilled hunters and have a strong predatory instinct. Cats are also known for their grooming behavior, spending a significant amount of time cleaning themselves. They communicate through vocalizations, body language, and scent marking.\n",
      "\n",
      "4. Lifespan: The average lifespan of a cat is around 15 years, although some cats can live well into their twenties with proper care. Factors such as genetics, diet, and overall health can influence a cat's lifespan.\n",
      "\n",
      "5. Benefits of owning a cat: Cats make great companions and provide several benefits to their owners. They can help reduce stress, lower blood pressure, and provide emotional support. Cats are also known for their ability to catch pests like mice and rats, making them valuable for pest control.\n",
      "\n",
      "6. Care and maintenance: Cats require regular care and attention. They need a balanced diet, fresh water, and a clean litter box. Regular grooming, including brushing their fur and trimming their nails, is also important. Cats should be provided with toys and scratching posts to keep them mentally and physically stimulated.\n",
      "\n",
      "7. Health: Cats can be prone to certain health issues, including dental problems, obesity, and urinary tract infections. Regular veterinary check-ups, vaccinations, and preventive care are essential to ensure their well-being.\n",
      "\n",
      "8. Popularity: Cats are incredibly popular pets worldwide. They are known for their companionship, playfulness, and ability to form strong bonds with their owners. Many people find comfort and joy in having a cat as a pet.\n",
      "\n",
      "Overall, cats are fascinating creatures with unique personalities and behaviors. They have been cherished as pets for centuries and continue to bring joy and companionship to millions of people around the world.\n"
     ]
    }
   ],
   "source": [
    "print(content.content)"
   ]
  },
  {
   "cell_type": "code",
   "execution_count": 12,
   "metadata": {},
   "outputs": [
    {
     "data": {
      "text/plain": [
       "CompletionUsage(completion_tokens=497, prompt_tokens=11, total_tokens=508)"
      ]
     },
     "execution_count": 12,
     "metadata": {},
     "output_type": "execute_result"
    }
   ],
   "source": [
    "usage"
   ]
  },
  {
   "cell_type": "code",
   "execution_count": null,
   "metadata": {},
   "outputs": [],
   "source": []
  }
 ],
 "metadata": {
  "kernelspec": {
   "display_name": "blogscraper-env",
   "language": "python",
   "name": "python3"
  },
  "language_info": {
   "codemirror_mode": {
    "name": "ipython",
    "version": 3
   },
   "file_extension": ".py",
   "mimetype": "text/x-python",
   "name": "python",
   "nbconvert_exporter": "python",
   "pygments_lexer": "ipython3",
   "version": "3.11.4"
  }
 },
 "nbformat": 4,
 "nbformat_minor": 2
}
